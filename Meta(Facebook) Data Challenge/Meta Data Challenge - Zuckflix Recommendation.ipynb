{
 "cells": [
  {
   "cell_type": "markdown",
   "id": "bb87ce94",
   "metadata": {},
   "source": [
    "## Make a recommendation for what type of content we should have on Zuckflix. In addition to your overall recommendation, pick a country  and make a recommendation for the type of content we should have  for that country in particular."
   ]
  },
  {
   "cell_type": "markdown",
   "id": "c3af4abf",
   "metadata": {},
   "source": [
    "### Country: America\n",
    "### Questions: \n",
    "#####               What generes have gotton more or less popular?\n",
    "#####               Trends in the length of movies\n",
    "#####               Trends in the number of seasons of TV shows?\n",
    "#####               Certain actors / directors that Nexflix seems to like in US?"
   ]
  },
  {
   "cell_type": "code",
   "execution_count": 4,
   "id": "672be578",
   "metadata": {},
   "outputs": [],
   "source": [
    "import pandas as pd\n",
    "import numpy as np\n",
    "\n",
    "import matplotlib.pyplot as plt\n",
    "%matplotlib inline\n",
    "\n",
    "import seaborn as sns; sns.set()\n",
    "plt.style.use('seaborn-white')\n",
    "\n",
    "import warnings\n",
    "warnings.filterwarnings(\"ignore\")"
   ]
  },
  {
   "cell_type": "markdown",
   "id": "901a55b7",
   "metadata": {},
   "source": [
    "## 1. Read Data"
   ]
  },
  {
   "cell_type": "code",
   "execution_count": 5,
   "id": "730747be",
   "metadata": {},
   "outputs": [
    {
     "data": {
      "text/html": [
       "<div>\n",
       "<style scoped>\n",
       "    .dataframe tbody tr th:only-of-type {\n",
       "        vertical-align: middle;\n",
       "    }\n",
       "\n",
       "    .dataframe tbody tr th {\n",
       "        vertical-align: top;\n",
       "    }\n",
       "\n",
       "    .dataframe thead th {\n",
       "        text-align: right;\n",
       "    }\n",
       "</style>\n",
       "<table border=\"1\" class=\"dataframe\">\n",
       "  <thead>\n",
       "    <tr style=\"text-align: right;\">\n",
       "      <th></th>\n",
       "      <th>show_id</th>\n",
       "      <th>type</th>\n",
       "      <th>title</th>\n",
       "      <th>director</th>\n",
       "      <th>cast</th>\n",
       "      <th>country</th>\n",
       "      <th>date_added</th>\n",
       "      <th>release_year</th>\n",
       "      <th>rating</th>\n",
       "      <th>duration</th>\n",
       "      <th>listed_in</th>\n",
       "      <th>description</th>\n",
       "    </tr>\n",
       "  </thead>\n",
       "  <tbody>\n",
       "    <tr>\n",
       "      <th>0</th>\n",
       "      <td>s1</td>\n",
       "      <td>Movie</td>\n",
       "      <td>Dick Johnson Is Dead</td>\n",
       "      <td>Kirsten Johnson</td>\n",
       "      <td>NaN</td>\n",
       "      <td>United States</td>\n",
       "      <td>September 25, 2021</td>\n",
       "      <td>2020</td>\n",
       "      <td>PG-13</td>\n",
       "      <td>90 min</td>\n",
       "      <td>Documentaries</td>\n",
       "      <td>As her father nears the end of his life, filmm...</td>\n",
       "    </tr>\n",
       "    <tr>\n",
       "      <th>1</th>\n",
       "      <td>s2</td>\n",
       "      <td>TV Show</td>\n",
       "      <td>Blood &amp; Water</td>\n",
       "      <td>NaN</td>\n",
       "      <td>Ama Qamata, Khosi Ngema, Gail Mabalane, Thaban...</td>\n",
       "      <td>South Africa</td>\n",
       "      <td>September 24, 2021</td>\n",
       "      <td>2021</td>\n",
       "      <td>TV-MA</td>\n",
       "      <td>2 Seasons</td>\n",
       "      <td>International TV Shows, TV Dramas, TV Mysteries</td>\n",
       "      <td>After crossing paths at a party, a Cape Town t...</td>\n",
       "    </tr>\n",
       "    <tr>\n",
       "      <th>2</th>\n",
       "      <td>s3</td>\n",
       "      <td>TV Show</td>\n",
       "      <td>Ganglands</td>\n",
       "      <td>Julien Leclercq</td>\n",
       "      <td>Sami Bouajila, Tracy Gotoas, Samuel Jouy, Nabi...</td>\n",
       "      <td>NaN</td>\n",
       "      <td>September 24, 2021</td>\n",
       "      <td>2021</td>\n",
       "      <td>TV-MA</td>\n",
       "      <td>1 Season</td>\n",
       "      <td>Crime TV Shows, International TV Shows, TV Act...</td>\n",
       "      <td>To protect his family from a powerful drug lor...</td>\n",
       "    </tr>\n",
       "    <tr>\n",
       "      <th>3</th>\n",
       "      <td>s4</td>\n",
       "      <td>TV Show</td>\n",
       "      <td>Jailbirds New Orleans</td>\n",
       "      <td>NaN</td>\n",
       "      <td>NaN</td>\n",
       "      <td>NaN</td>\n",
       "      <td>September 24, 2021</td>\n",
       "      <td>2021</td>\n",
       "      <td>TV-MA</td>\n",
       "      <td>1 Season</td>\n",
       "      <td>Docuseries, Reality TV</td>\n",
       "      <td>Feuds, flirtations and toilet talk go down amo...</td>\n",
       "    </tr>\n",
       "    <tr>\n",
       "      <th>4</th>\n",
       "      <td>s5</td>\n",
       "      <td>TV Show</td>\n",
       "      <td>Kota Factory</td>\n",
       "      <td>NaN</td>\n",
       "      <td>Mayur More, Jitendra Kumar, Ranjan Raj, Alam K...</td>\n",
       "      <td>India</td>\n",
       "      <td>September 24, 2021</td>\n",
       "      <td>2021</td>\n",
       "      <td>TV-MA</td>\n",
       "      <td>2 Seasons</td>\n",
       "      <td>International TV Shows, Romantic TV Shows, TV ...</td>\n",
       "      <td>In a city of coaching centers known to train I...</td>\n",
       "    </tr>\n",
       "  </tbody>\n",
       "</table>\n",
       "</div>"
      ],
      "text/plain": [
       "  show_id     type                  title         director  \\\n",
       "0      s1    Movie   Dick Johnson Is Dead  Kirsten Johnson   \n",
       "1      s2  TV Show          Blood & Water              NaN   \n",
       "2      s3  TV Show              Ganglands  Julien Leclercq   \n",
       "3      s4  TV Show  Jailbirds New Orleans              NaN   \n",
       "4      s5  TV Show           Kota Factory              NaN   \n",
       "\n",
       "                                                cast        country  \\\n",
       "0                                                NaN  United States   \n",
       "1  Ama Qamata, Khosi Ngema, Gail Mabalane, Thaban...   South Africa   \n",
       "2  Sami Bouajila, Tracy Gotoas, Samuel Jouy, Nabi...            NaN   \n",
       "3                                                NaN            NaN   \n",
       "4  Mayur More, Jitendra Kumar, Ranjan Raj, Alam K...          India   \n",
       "\n",
       "           date_added  release_year rating   duration  \\\n",
       "0  September 25, 2021          2020  PG-13     90 min   \n",
       "1  September 24, 2021          2021  TV-MA  2 Seasons   \n",
       "2  September 24, 2021          2021  TV-MA   1 Season   \n",
       "3  September 24, 2021          2021  TV-MA   1 Season   \n",
       "4  September 24, 2021          2021  TV-MA  2 Seasons   \n",
       "\n",
       "                                           listed_in  \\\n",
       "0                                      Documentaries   \n",
       "1    International TV Shows, TV Dramas, TV Mysteries   \n",
       "2  Crime TV Shows, International TV Shows, TV Act...   \n",
       "3                             Docuseries, Reality TV   \n",
       "4  International TV Shows, Romantic TV Shows, TV ...   \n",
       "\n",
       "                                         description  \n",
       "0  As her father nears the end of his life, filmm...  \n",
       "1  After crossing paths at a party, a Cape Town t...  \n",
       "2  To protect his family from a powerful drug lor...  \n",
       "3  Feuds, flirtations and toilet talk go down amo...  \n",
       "4  In a city of coaching centers known to train I...  "
      ]
     },
     "execution_count": 5,
     "metadata": {},
     "output_type": "execute_result"
    }
   ],
   "source": [
    "df = pd.read_csv('netflix_titles.csv')\n",
    "df.head()"
   ]
  },
  {
   "cell_type": "markdown",
   "id": "52ba1917",
   "metadata": {},
   "source": [
    "## 2. Feature Engineering"
   ]
  },
  {
   "cell_type": "code",
   "execution_count": 6,
   "id": "1c082d65",
   "metadata": {},
   "outputs": [
    {
     "data": {
      "text/plain": [
       "CategoricalDtype(categories=['Movie', 'TV Show'], ordered=False)"
      ]
     },
     "execution_count": 6,
     "metadata": {},
     "output_type": "execute_result"
    }
   ],
   "source": [
    "# type column have only 2 kind of values so we will convert it into category datatype\n",
    "df['type'] = df['type'].astype('category')\n",
    "df['type'].dtype"
   ]
  },
  {
   "cell_type": "code",
   "execution_count": 7,
   "id": "0092209e",
   "metadata": {},
   "outputs": [
    {
     "data": {
      "text/plain": [
       "dtype('<M8[ns]')"
      ]
     },
     "execution_count": 7,
     "metadata": {},
     "output_type": "execute_result"
    }
   ],
   "source": [
    "# date_added should be in date\n",
    "df['date_added'] = df['date_added'].astype('datetime64')\n",
    "df.dtypes['date_added']"
   ]
  },
  {
   "cell_type": "code",
   "execution_count": 8,
   "id": "d1c1a981",
   "metadata": {},
   "outputs": [
    {
     "data": {
      "text/plain": [
       "show_id            0\n",
       "type               0\n",
       "title              0\n",
       "director        2634\n",
       "cast             825\n",
       "country          831\n",
       "date_added        10\n",
       "release_year       0\n",
       "rating             4\n",
       "duration           3\n",
       "listed_in          0\n",
       "description        0\n",
       "dtype: int64"
      ]
     },
     "execution_count": 8,
     "metadata": {},
     "output_type": "execute_result"
    }
   ],
   "source": [
    "# checking missing values\n",
    "df.isnull().sum()"
   ]
  },
  {
   "cell_type": "code",
   "execution_count": 9,
   "id": "9aa81169",
   "metadata": {},
   "outputs": [],
   "source": [
    "# country have 831 missing values so we will fill them using maximum occered country (mode)\n",
    "df['country'].fillna(df['country'].mode()[0],inplace=True)"
   ]
  },
  {
   "cell_type": "code",
   "execution_count": 10,
   "id": "1f912819",
   "metadata": {},
   "outputs": [],
   "source": [
    "# date_added column have 10 missing values so we are taking dataframe from those in which values are present in it\n",
    "# basically we are dropin those in which date_added is missing(using just another way via notna() method)\n",
    "df=df[df['date_added'].notna()]"
   ]
  },
  {
   "cell_type": "code",
   "execution_count": 11,
   "id": "757dae93",
   "metadata": {},
   "outputs": [],
   "source": [
    "# 4 rating are missing so we will fill them using maximum occering value  which is mode\n",
    "df['rating'].fillna(df['rating'].value_counts().index[0], inplace=True)"
   ]
  },
  {
   "cell_type": "code",
   "execution_count": 12,
   "id": "7de57955",
   "metadata": {},
   "outputs": [
    {
     "data": {
      "text/html": [
       "<div>\n",
       "<style scoped>\n",
       "    .dataframe tbody tr th:only-of-type {\n",
       "        vertical-align: middle;\n",
       "    }\n",
       "\n",
       "    .dataframe tbody tr th {\n",
       "        vertical-align: top;\n",
       "    }\n",
       "\n",
       "    .dataframe thead th {\n",
       "        text-align: right;\n",
       "    }\n",
       "</style>\n",
       "<table border=\"1\" class=\"dataframe\">\n",
       "  <thead>\n",
       "    <tr style=\"text-align: right;\">\n",
       "      <th></th>\n",
       "      <th>show_id</th>\n",
       "      <th>type</th>\n",
       "      <th>title</th>\n",
       "      <th>director</th>\n",
       "      <th>cast</th>\n",
       "      <th>country</th>\n",
       "      <th>date_added</th>\n",
       "      <th>release_year</th>\n",
       "      <th>rating</th>\n",
       "      <th>duration</th>\n",
       "      <th>listed_in</th>\n",
       "      <th>description</th>\n",
       "    </tr>\n",
       "  </thead>\n",
       "  <tbody>\n",
       "    <tr>\n",
       "      <th>5541</th>\n",
       "      <td>s5542</td>\n",
       "      <td>Movie</td>\n",
       "      <td>Louis C.K. 2017</td>\n",
       "      <td>Louis C.K.</td>\n",
       "      <td>Louis C.K.</td>\n",
       "      <td>United States</td>\n",
       "      <td>2017-04-04</td>\n",
       "      <td>2017</td>\n",
       "      <td>74 min</td>\n",
       "      <td>NaN</td>\n",
       "      <td>Movies</td>\n",
       "      <td>Louis C.K. muses on religion, eternal love, gi...</td>\n",
       "    </tr>\n",
       "    <tr>\n",
       "      <th>5794</th>\n",
       "      <td>s5795</td>\n",
       "      <td>Movie</td>\n",
       "      <td>Louis C.K.: Hilarious</td>\n",
       "      <td>Louis C.K.</td>\n",
       "      <td>Louis C.K.</td>\n",
       "      <td>United States</td>\n",
       "      <td>2016-09-16</td>\n",
       "      <td>2010</td>\n",
       "      <td>84 min</td>\n",
       "      <td>NaN</td>\n",
       "      <td>Movies</td>\n",
       "      <td>Emmy-winning comedy writer Louis C.K. brings h...</td>\n",
       "    </tr>\n",
       "    <tr>\n",
       "      <th>5813</th>\n",
       "      <td>s5814</td>\n",
       "      <td>Movie</td>\n",
       "      <td>Louis C.K.: Live at the Comedy Store</td>\n",
       "      <td>Louis C.K.</td>\n",
       "      <td>Louis C.K.</td>\n",
       "      <td>United States</td>\n",
       "      <td>2016-08-15</td>\n",
       "      <td>2015</td>\n",
       "      <td>66 min</td>\n",
       "      <td>NaN</td>\n",
       "      <td>Movies</td>\n",
       "      <td>The comic puts his trademark hilarious/thought...</td>\n",
       "    </tr>\n",
       "  </tbody>\n",
       "</table>\n",
       "</div>"
      ],
      "text/plain": [
       "     show_id   type                                 title    director  \\\n",
       "5541   s5542  Movie                       Louis C.K. 2017  Louis C.K.   \n",
       "5794   s5795  Movie                 Louis C.K.: Hilarious  Louis C.K.   \n",
       "5813   s5814  Movie  Louis C.K.: Live at the Comedy Store  Louis C.K.   \n",
       "\n",
       "            cast        country date_added  release_year  rating duration  \\\n",
       "5541  Louis C.K.  United States 2017-04-04          2017  74 min      NaN   \n",
       "5794  Louis C.K.  United States 2016-09-16          2010  84 min      NaN   \n",
       "5813  Louis C.K.  United States 2016-08-15          2015  66 min      NaN   \n",
       "\n",
       "     listed_in                                        description  \n",
       "5541    Movies  Louis C.K. muses on religion, eternal love, gi...  \n",
       "5794    Movies  Emmy-winning comedy writer Louis C.K. brings h...  \n",
       "5813    Movies  The comic puts his trademark hilarious/thought...  "
      ]
     },
     "execution_count": 12,
     "metadata": {},
     "output_type": "execute_result"
    }
   ],
   "source": [
    "# 3 values are missing in duration \n",
    "df[df['duration'].isna()]             # we can see that duration values are placaed in rating "
   ]
  },
  {
   "cell_type": "code",
   "execution_count": 13,
   "id": "21cbb634",
   "metadata": {},
   "outputs": [],
   "source": [
    "df.loc[[5541,5794,5813],'duration'] = df.loc[[5541,5794,5813]]['rating'].values   # filled with rating column values"
   ]
  },
  {
   "cell_type": "code",
   "execution_count": 14,
   "id": "49b5c1f4",
   "metadata": {},
   "outputs": [],
   "source": [
    "df.loc[[5541,5794,5813],'rating'] = [np.NaN,np.NaN,np.NaN]                         # filled rating column with nan"
   ]
  },
  {
   "cell_type": "code",
   "execution_count": 15,
   "id": "9f47698f",
   "metadata": {},
   "outputs": [
    {
     "data": {
      "text/html": [
       "<div>\n",
       "<style scoped>\n",
       "    .dataframe tbody tr th:only-of-type {\n",
       "        vertical-align: middle;\n",
       "    }\n",
       "\n",
       "    .dataframe tbody tr th {\n",
       "        vertical-align: top;\n",
       "    }\n",
       "\n",
       "    .dataframe thead th {\n",
       "        text-align: right;\n",
       "    }\n",
       "</style>\n",
       "<table border=\"1\" class=\"dataframe\">\n",
       "  <thead>\n",
       "    <tr style=\"text-align: right;\">\n",
       "      <th></th>\n",
       "      <th>show_id</th>\n",
       "      <th>type</th>\n",
       "      <th>title</th>\n",
       "      <th>director</th>\n",
       "      <th>cast</th>\n",
       "      <th>country</th>\n",
       "      <th>date_added</th>\n",
       "      <th>release_year</th>\n",
       "      <th>rating</th>\n",
       "      <th>duration</th>\n",
       "      <th>listed_in</th>\n",
       "      <th>description</th>\n",
       "    </tr>\n",
       "  </thead>\n",
       "  <tbody>\n",
       "    <tr>\n",
       "      <th>5541</th>\n",
       "      <td>s5542</td>\n",
       "      <td>Movie</td>\n",
       "      <td>Louis C.K. 2017</td>\n",
       "      <td>Louis C.K.</td>\n",
       "      <td>Louis C.K.</td>\n",
       "      <td>United States</td>\n",
       "      <td>2017-04-04</td>\n",
       "      <td>2017</td>\n",
       "      <td>NaN</td>\n",
       "      <td>74 min</td>\n",
       "      <td>Movies</td>\n",
       "      <td>Louis C.K. muses on religion, eternal love, gi...</td>\n",
       "    </tr>\n",
       "    <tr>\n",
       "      <th>5794</th>\n",
       "      <td>s5795</td>\n",
       "      <td>Movie</td>\n",
       "      <td>Louis C.K.: Hilarious</td>\n",
       "      <td>Louis C.K.</td>\n",
       "      <td>Louis C.K.</td>\n",
       "      <td>United States</td>\n",
       "      <td>2016-09-16</td>\n",
       "      <td>2010</td>\n",
       "      <td>NaN</td>\n",
       "      <td>84 min</td>\n",
       "      <td>Movies</td>\n",
       "      <td>Emmy-winning comedy writer Louis C.K. brings h...</td>\n",
       "    </tr>\n",
       "    <tr>\n",
       "      <th>5813</th>\n",
       "      <td>s5814</td>\n",
       "      <td>Movie</td>\n",
       "      <td>Louis C.K.: Live at the Comedy Store</td>\n",
       "      <td>Louis C.K.</td>\n",
       "      <td>Louis C.K.</td>\n",
       "      <td>United States</td>\n",
       "      <td>2016-08-15</td>\n",
       "      <td>2015</td>\n",
       "      <td>NaN</td>\n",
       "      <td>66 min</td>\n",
       "      <td>Movies</td>\n",
       "      <td>The comic puts his trademark hilarious/thought...</td>\n",
       "    </tr>\n",
       "  </tbody>\n",
       "</table>\n",
       "</div>"
      ],
      "text/plain": [
       "     show_id   type                                 title    director  \\\n",
       "5541   s5542  Movie                       Louis C.K. 2017  Louis C.K.   \n",
       "5794   s5795  Movie                 Louis C.K.: Hilarious  Louis C.K.   \n",
       "5813   s5814  Movie  Louis C.K.: Live at the Comedy Store  Louis C.K.   \n",
       "\n",
       "            cast        country date_added  release_year rating duration  \\\n",
       "5541  Louis C.K.  United States 2017-04-04          2017    NaN   74 min   \n",
       "5794  Louis C.K.  United States 2016-09-16          2010    NaN   84 min   \n",
       "5813  Louis C.K.  United States 2016-08-15          2015    NaN   66 min   \n",
       "\n",
       "     listed_in                                        description  \n",
       "5541    Movies  Louis C.K. muses on religion, eternal love, gi...  \n",
       "5794    Movies  Emmy-winning comedy writer Louis C.K. brings h...  \n",
       "5813    Movies  The comic puts his trademark hilarious/thought...  "
      ]
     },
     "execution_count": 15,
     "metadata": {},
     "output_type": "execute_result"
    }
   ],
   "source": [
    "df.loc[[5541,5794,5813]]"
   ]
  },
  {
   "cell_type": "code",
   "execution_count": 16,
   "id": "e47fa9c4",
   "metadata": {},
   "outputs": [],
   "source": [
    "# 3 rating are Nan because of above code so we will fill them using maximum occering value  which is mode\n",
    "df['rating'].fillna(df['rating'].mode()[0], inplace=True)"
   ]
  },
  {
   "cell_type": "code",
   "execution_count": 17,
   "id": "b6b80ea1",
   "metadata": {},
   "outputs": [
    {
     "name": "stdout",
     "output_type": "stream",
     "text": [
      "<class 'pandas.core.frame.DataFrame'>\n",
      "Int64Index: 8797 entries, 0 to 8806\n",
      "Data columns (total 12 columns):\n",
      " #   Column        Non-Null Count  Dtype         \n",
      "---  ------        --------------  -----         \n",
      " 0   show_id       8797 non-null   object        \n",
      " 1   type          8797 non-null   category      \n",
      " 2   title         8797 non-null   object        \n",
      " 3   director      6173 non-null   object        \n",
      " 4   cast          7972 non-null   object        \n",
      " 5   country       8797 non-null   object        \n",
      " 6   date_added    8797 non-null   datetime64[ns]\n",
      " 7   release_year  8797 non-null   int64         \n",
      " 8   rating        8797 non-null   object        \n",
      " 9   duration      8797 non-null   object        \n",
      " 10  listed_in     8797 non-null   object        \n",
      " 11  description   8797 non-null   object        \n",
      "dtypes: category(1), datetime64[ns](1), int64(1), object(9)\n",
      "memory usage: 1.1+ MB\n"
     ]
    }
   ],
   "source": [
    "df.info()"
   ]
  },
  {
   "cell_type": "code",
   "execution_count": 18,
   "id": "851c739d",
   "metadata": {},
   "outputs": [
    {
     "data": {
      "text/plain": [
       "0"
      ]
     },
     "execution_count": 18,
     "metadata": {},
     "output_type": "execute_result"
    }
   ],
   "source": [
    "# checking entire row is duplicating or not\n",
    "df.duplicated().sum()"
   ]
  },
  {
   "cell_type": "code",
   "execution_count": 19,
   "id": "479fc32d",
   "metadata": {},
   "outputs": [
    {
     "data": {
      "text/html": [
       "<div>\n",
       "<style scoped>\n",
       "    .dataframe tbody tr th:only-of-type {\n",
       "        vertical-align: middle;\n",
       "    }\n",
       "\n",
       "    .dataframe tbody tr th {\n",
       "        vertical-align: top;\n",
       "    }\n",
       "\n",
       "    .dataframe thead th {\n",
       "        text-align: right;\n",
       "    }\n",
       "</style>\n",
       "<table border=\"1\" class=\"dataframe\">\n",
       "  <thead>\n",
       "    <tr style=\"text-align: right;\">\n",
       "      <th></th>\n",
       "      <th>show_id</th>\n",
       "      <th>type</th>\n",
       "      <th>title</th>\n",
       "      <th>director</th>\n",
       "      <th>cast</th>\n",
       "      <th>country</th>\n",
       "      <th>date_added</th>\n",
       "      <th>release_year</th>\n",
       "      <th>rating</th>\n",
       "      <th>duration</th>\n",
       "      <th>listed_in</th>\n",
       "      <th>description</th>\n",
       "    </tr>\n",
       "  </thead>\n",
       "  <tbody>\n",
       "  </tbody>\n",
       "</table>\n",
       "</div>"
      ],
      "text/plain": [
       "Empty DataFrame\n",
       "Columns: [show_id, type, title, director, cast, country, date_added, release_year, rating, duration, listed_in, description]\n",
       "Index: []"
      ]
     },
     "execution_count": 19,
     "metadata": {},
     "output_type": "execute_result"
    }
   ],
   "source": [
    "df[df['title'].duplicated()]               # they are not movies so we will drop them and thier original movie aslo"
   ]
  },
  {
   "cell_type": "code",
   "execution_count": 20,
   "id": "30bff117",
   "metadata": {},
   "outputs": [
    {
     "data": {
      "text/plain": [
       "0"
      ]
     },
     "execution_count": 20,
     "metadata": {},
     "output_type": "execute_result"
    }
   ],
   "source": [
    "# droing duplicated and wrong values from dataframe\n",
    "df.drop(df[df['title'].duplicated(keep=False)].index, inplace=True)\n",
    "df['title'].duplicated().sum()                                           # after dropping, check"
   ]
  },
  {
   "cell_type": "code",
   "execution_count": 21,
   "id": "53bd647f",
   "metadata": {},
   "outputs": [],
   "source": [
    "df['date_added'] = df['date_added'].astype('datetime64')"
   ]
  },
  {
   "cell_type": "code",
   "execution_count": 22,
   "id": "afb6c045",
   "metadata": {},
   "outputs": [],
   "source": [
    "df['month_added'] = df['date_added'].apply(lambda x: x.strftime(\"%B\"))"
   ]
  },
  {
   "cell_type": "code",
   "execution_count": 23,
   "id": "9e7f6188",
   "metadata": {},
   "outputs": [],
   "source": [
    "df['year_added'] = df['date_added'].apply(lambda x: x.year)"
   ]
  },
  {
   "cell_type": "code",
   "execution_count": 24,
   "id": "66e94c48",
   "metadata": {},
   "outputs": [],
   "source": [
    "rating_ages = {\n",
    "    'TV-PG': 'Older Kids',\n",
    "    'TV-MA': 'Adults',\n",
    "    'TV-Y7-FV': 'Older Kids',\n",
    "    'TV-Y7': 'Older Kids',\n",
    "    'TV-14': 'Teens',\n",
    "    'R': 'Adults',\n",
    "    'TV-Y': 'Kids',\n",
    "    'NR': 'Adults',\n",
    "    'PG-13': 'Teens',\n",
    "    'TV-G': 'Kids',\n",
    "    'PG': 'Older Kids',\n",
    "    'G': 'Kids',\n",
    "    'UR': 'Adults',\n",
    "    'NC-17': 'Adults'\n",
    "}"
   ]
  },
  {
   "cell_type": "code",
   "execution_count": 25,
   "id": "59fc9570",
   "metadata": {},
   "outputs": [],
   "source": [
    "# creating new feature\n",
    "df['targeted_age'] = df['rating'].replace(rating_ages)"
   ]
  },
  {
   "cell_type": "code",
   "execution_count": 26,
   "id": "61eed4c0",
   "metadata": {},
   "outputs": [
    {
     "data": {
      "text/plain": [
       "array(['Teens', 'Adults', 'Older Kids', 'Kids'], dtype=object)"
      ]
     },
     "execution_count": 26,
     "metadata": {},
     "output_type": "execute_result"
    }
   ],
   "source": [
    "df['targeted_age'].unique()"
   ]
  },
  {
   "cell_type": "code",
   "execution_count": 27,
   "id": "aa5a216c",
   "metadata": {},
   "outputs": [],
   "source": [
    "# there are only 4 unique category of targeted_age so we will convert it into category\n",
    "df['targeted_age'] = df['targeted_age'].astype('category')"
   ]
  },
  {
   "cell_type": "code",
   "execution_count": 28,
   "id": "d685d474",
   "metadata": {},
   "outputs": [],
   "source": [
    "country_filter = []\n",
    "for i in df['country']:\n",
    "    if 'United States' in str(i):\n",
    "        country_filter.append(True)\n",
    "    else:\n",
    "        country_filter.append(False)"
   ]
  },
  {
   "cell_type": "code",
   "execution_count": 29,
   "id": "b77ec9af",
   "metadata": {},
   "outputs": [
    {
     "data": {
      "text/html": [
       "<div>\n",
       "<style scoped>\n",
       "    .dataframe tbody tr th:only-of-type {\n",
       "        vertical-align: middle;\n",
       "    }\n",
       "\n",
       "    .dataframe tbody tr th {\n",
       "        vertical-align: top;\n",
       "    }\n",
       "\n",
       "    .dataframe thead th {\n",
       "        text-align: right;\n",
       "    }\n",
       "</style>\n",
       "<table border=\"1\" class=\"dataframe\">\n",
       "  <thead>\n",
       "    <tr style=\"text-align: right;\">\n",
       "      <th></th>\n",
       "      <th>show_id</th>\n",
       "      <th>type</th>\n",
       "      <th>title</th>\n",
       "      <th>director</th>\n",
       "      <th>cast</th>\n",
       "      <th>country</th>\n",
       "      <th>date_added</th>\n",
       "      <th>release_year</th>\n",
       "      <th>rating</th>\n",
       "      <th>duration</th>\n",
       "      <th>listed_in</th>\n",
       "      <th>description</th>\n",
       "      <th>month_added</th>\n",
       "      <th>year_added</th>\n",
       "      <th>targeted_age</th>\n",
       "    </tr>\n",
       "  </thead>\n",
       "  <tbody>\n",
       "    <tr>\n",
       "      <th>0</th>\n",
       "      <td>s1</td>\n",
       "      <td>Movie</td>\n",
       "      <td>Dick Johnson Is Dead</td>\n",
       "      <td>Kirsten Johnson</td>\n",
       "      <td>NaN</td>\n",
       "      <td>United States</td>\n",
       "      <td>2021-09-25</td>\n",
       "      <td>2020</td>\n",
       "      <td>PG-13</td>\n",
       "      <td>90 min</td>\n",
       "      <td>Documentaries</td>\n",
       "      <td>As her father nears the end of his life, filmm...</td>\n",
       "      <td>September</td>\n",
       "      <td>2021</td>\n",
       "      <td>Teens</td>\n",
       "    </tr>\n",
       "    <tr>\n",
       "      <th>2</th>\n",
       "      <td>s3</td>\n",
       "      <td>TV Show</td>\n",
       "      <td>Ganglands</td>\n",
       "      <td>Julien Leclercq</td>\n",
       "      <td>Sami Bouajila, Tracy Gotoas, Samuel Jouy, Nabi...</td>\n",
       "      <td>United States</td>\n",
       "      <td>2021-09-24</td>\n",
       "      <td>2021</td>\n",
       "      <td>TV-MA</td>\n",
       "      <td>1 Season</td>\n",
       "      <td>Crime TV Shows, International TV Shows, TV Act...</td>\n",
       "      <td>To protect his family from a powerful drug lor...</td>\n",
       "      <td>September</td>\n",
       "      <td>2021</td>\n",
       "      <td>Adults</td>\n",
       "    </tr>\n",
       "    <tr>\n",
       "      <th>3</th>\n",
       "      <td>s4</td>\n",
       "      <td>TV Show</td>\n",
       "      <td>Jailbirds New Orleans</td>\n",
       "      <td>NaN</td>\n",
       "      <td>NaN</td>\n",
       "      <td>United States</td>\n",
       "      <td>2021-09-24</td>\n",
       "      <td>2021</td>\n",
       "      <td>TV-MA</td>\n",
       "      <td>1 Season</td>\n",
       "      <td>Docuseries, Reality TV</td>\n",
       "      <td>Feuds, flirtations and toilet talk go down amo...</td>\n",
       "      <td>September</td>\n",
       "      <td>2021</td>\n",
       "      <td>Adults</td>\n",
       "    </tr>\n",
       "  </tbody>\n",
       "</table>\n",
       "</div>"
      ],
      "text/plain": [
       "  show_id     type                  title         director  \\\n",
       "0      s1    Movie   Dick Johnson Is Dead  Kirsten Johnson   \n",
       "2      s3  TV Show              Ganglands  Julien Leclercq   \n",
       "3      s4  TV Show  Jailbirds New Orleans              NaN   \n",
       "\n",
       "                                                cast        country  \\\n",
       "0                                                NaN  United States   \n",
       "2  Sami Bouajila, Tracy Gotoas, Samuel Jouy, Nabi...  United States   \n",
       "3                                                NaN  United States   \n",
       "\n",
       "  date_added  release_year rating  duration  \\\n",
       "0 2021-09-25          2020  PG-13    90 min   \n",
       "2 2021-09-24          2021  TV-MA  1 Season   \n",
       "3 2021-09-24          2021  TV-MA  1 Season   \n",
       "\n",
       "                                           listed_in  \\\n",
       "0                                      Documentaries   \n",
       "2  Crime TV Shows, International TV Shows, TV Act...   \n",
       "3                             Docuseries, Reality TV   \n",
       "\n",
       "                                         description month_added  year_added  \\\n",
       "0  As her father nears the end of his life, filmm...   September        2021   \n",
       "2  To protect his family from a powerful drug lor...   September        2021   \n",
       "3  Feuds, flirtations and toilet talk go down amo...   September        2021   \n",
       "\n",
       "  targeted_age  \n",
       "0        Teens  \n",
       "2       Adults  \n",
       "3       Adults  "
      ]
     },
     "execution_count": 29,
     "metadata": {},
     "output_type": "execute_result"
    }
   ],
   "source": [
    "df_us_alltime = df[country_filter]\n",
    "df_us_alltime.head(3)"
   ]
  },
  {
   "cell_type": "code",
   "execution_count": 30,
   "id": "134e219b",
   "metadata": {},
   "outputs": [
    {
     "data": {
      "text/html": [
       "<div>\n",
       "<style scoped>\n",
       "    .dataframe tbody tr th:only-of-type {\n",
       "        vertical-align: middle;\n",
       "    }\n",
       "\n",
       "    .dataframe tbody tr th {\n",
       "        vertical-align: top;\n",
       "    }\n",
       "\n",
       "    .dataframe thead th {\n",
       "        text-align: right;\n",
       "    }\n",
       "</style>\n",
       "<table border=\"1\" class=\"dataframe\">\n",
       "  <thead>\n",
       "    <tr style=\"text-align: right;\">\n",
       "      <th></th>\n",
       "      <th>show_id</th>\n",
       "      <th>type</th>\n",
       "      <th>title</th>\n",
       "      <th>director</th>\n",
       "      <th>cast</th>\n",
       "      <th>country</th>\n",
       "      <th>date_added</th>\n",
       "      <th>release_year</th>\n",
       "      <th>rating</th>\n",
       "      <th>duration</th>\n",
       "      <th>listed_in</th>\n",
       "      <th>description</th>\n",
       "      <th>month_added</th>\n",
       "      <th>year_added</th>\n",
       "      <th>targeted_age</th>\n",
       "    </tr>\n",
       "  </thead>\n",
       "  <tbody>\n",
       "    <tr>\n",
       "      <th>0</th>\n",
       "      <td>s1</td>\n",
       "      <td>Movie</td>\n",
       "      <td>Dick Johnson Is Dead</td>\n",
       "      <td>Kirsten Johnson</td>\n",
       "      <td>NaN</td>\n",
       "      <td>United States</td>\n",
       "      <td>2021-09-25</td>\n",
       "      <td>2020</td>\n",
       "      <td>PG-13</td>\n",
       "      <td>90 min</td>\n",
       "      <td>Documentaries</td>\n",
       "      <td>As her father nears the end of his life, filmm...</td>\n",
       "      <td>September</td>\n",
       "      <td>2021</td>\n",
       "      <td>Teens</td>\n",
       "    </tr>\n",
       "    <tr>\n",
       "      <th>2</th>\n",
       "      <td>s3</td>\n",
       "      <td>TV Show</td>\n",
       "      <td>Ganglands</td>\n",
       "      <td>Julien Leclercq</td>\n",
       "      <td>Sami Bouajila, Tracy Gotoas, Samuel Jouy, Nabi...</td>\n",
       "      <td>United States</td>\n",
       "      <td>2021-09-24</td>\n",
       "      <td>2021</td>\n",
       "      <td>TV-MA</td>\n",
       "      <td>1 Season</td>\n",
       "      <td>Crime TV Shows, International TV Shows, TV Act...</td>\n",
       "      <td>To protect his family from a powerful drug lor...</td>\n",
       "      <td>September</td>\n",
       "      <td>2021</td>\n",
       "      <td>Adults</td>\n",
       "    </tr>\n",
       "    <tr>\n",
       "      <th>3</th>\n",
       "      <td>s4</td>\n",
       "      <td>TV Show</td>\n",
       "      <td>Jailbirds New Orleans</td>\n",
       "      <td>NaN</td>\n",
       "      <td>NaN</td>\n",
       "      <td>United States</td>\n",
       "      <td>2021-09-24</td>\n",
       "      <td>2021</td>\n",
       "      <td>TV-MA</td>\n",
       "      <td>1 Season</td>\n",
       "      <td>Docuseries, Reality TV</td>\n",
       "      <td>Feuds, flirtations and toilet talk go down amo...</td>\n",
       "      <td>September</td>\n",
       "      <td>2021</td>\n",
       "      <td>Adults</td>\n",
       "    </tr>\n",
       "  </tbody>\n",
       "</table>\n",
       "</div>"
      ],
      "text/plain": [
       "  show_id     type                  title         director  \\\n",
       "0      s1    Movie   Dick Johnson Is Dead  Kirsten Johnson   \n",
       "2      s3  TV Show              Ganglands  Julien Leclercq   \n",
       "3      s4  TV Show  Jailbirds New Orleans              NaN   \n",
       "\n",
       "                                                cast        country  \\\n",
       "0                                                NaN  United States   \n",
       "2  Sami Bouajila, Tracy Gotoas, Samuel Jouy, Nabi...  United States   \n",
       "3                                                NaN  United States   \n",
       "\n",
       "  date_added  release_year rating  duration  \\\n",
       "0 2021-09-25          2020  PG-13    90 min   \n",
       "2 2021-09-24          2021  TV-MA  1 Season   \n",
       "3 2021-09-24          2021  TV-MA  1 Season   \n",
       "\n",
       "                                           listed_in  \\\n",
       "0                                      Documentaries   \n",
       "2  Crime TV Shows, International TV Shows, TV Act...   \n",
       "3                             Docuseries, Reality TV   \n",
       "\n",
       "                                         description month_added  year_added  \\\n",
       "0  As her father nears the end of his life, filmm...   September        2021   \n",
       "2  To protect his family from a powerful drug lor...   September        2021   \n",
       "3  Feuds, flirtations and toilet talk go down amo...   September        2021   \n",
       "\n",
       "  targeted_age  \n",
       "0        Teens  \n",
       "2       Adults  \n",
       "3       Adults  "
      ]
     },
     "execution_count": 30,
     "metadata": {},
     "output_type": "execute_result"
    }
   ],
   "source": [
    "df_us_recent_three_years = df_us_alltime[df_us_alltime['year_added'] > 2018]\n",
    "df_us_recent_three_years.head(3)"
   ]
  },
  {
   "cell_type": "markdown",
   "id": "ae8c65b5",
   "metadata": {},
   "source": [
    "## 3. Keywords in Description "
   ]
  },
  {
   "cell_type": "code",
   "execution_count": 31,
   "id": "42a884f5",
   "metadata": {},
   "outputs": [],
   "source": [
    "import nltk\n",
    "from textblob import Word\n",
    "from textblob import TextBlob\n",
    "\n",
    "from nltk.corpus import stopwords\n",
    "stopword_list = stopwords.words(\"english\")\n",
    "\n",
    "import re"
   ]
  },
  {
   "cell_type": "code",
   "execution_count": 32,
   "id": "4c613db1",
   "metadata": {},
   "outputs": [],
   "source": [
    "# lower texts\n",
    "df_us_recent_three_years['clean_description'] = df_us_recent_three_years['description'].apply(lambda x: \\\n",
    "        ' '.join(x.lower() for x in x.split()))\n",
    "df_us_alltime['clean_description'] = df_us_alltime['description'].apply(lambda x: \\\n",
    "        ' '.join(x.lower() for x in x.split()))\n",
    "\n",
    "\n",
    "# Remove symbols\n",
    "df_us_recent_three_years['clean_description'] = df_us_recent_three_years['clean_description'].str.replace('[^\\w\\s]', '')\n",
    "df_us_alltime['clean_description'] = df_us_alltime['clean_description'].str.replace('[^\\w\\s]', '')\n",
    "\n",
    "# Lemmatize\n",
    "df_us_recent_three_years['clean_description'] = df_us_recent_three_years['clean_description'].apply(lambda x: \\\n",
    "        ' '.join([Word(word).lemmatize() for word in x.split()]))\n",
    "df_us_alltime['clean_description'] = df_us_alltime['clean_description'].apply(lambda x: \\\n",
    "        ' '.join([Word(word).lemmatize() for word in x.split()]))\n",
    "\n",
    "\n",
    "# Remove stop words\n",
    "df_us_recent_three_years['clean_description'] = df_us_recent_three_years['clean_description'].apply(lambda x: ' '.join(x\n",
    "        for x in x.split() if x not in stopword_list and len(x)>2))\n",
    "df_us_alltime['clean_description'] = df_us_alltime['clean_description'].apply(lambda x: ' '.join(x\n",
    "        for x in x.split() if x not in stopword_list and len(x)>2))"
   ]
  },
  {
   "cell_type": "code",
   "execution_count": 33,
   "id": "c40e95f2",
   "metadata": {},
   "outputs": [],
   "source": [
    "customized_stop_word = ['life','new','take','world','two','get','woman',\n",
    "                       'year','true','must','back','one','look','big','around','keep',\n",
    "                       'start', 'real','fun','based', 'join','five']"
   ]
  },
  {
   "cell_type": "code",
   "execution_count": 34,
   "id": "8b0432b1",
   "metadata": {},
   "outputs": [],
   "source": [
    "from collections import Counter"
   ]
  },
  {
   "cell_type": "code",
   "execution_count": 35,
   "id": "ec7970dd",
   "metadata": {},
   "outputs": [],
   "source": [
    "all_time_words = []\n",
    "\n",
    "for t in df_us_alltime['clean_description']:\n",
    "    for w in t.split(\" \"):\n",
    "        if w not in customized_stop_word:\n",
    "            all_time_words.append(w)"
   ]
  },
  {
   "cell_type": "code",
   "execution_count": 36,
   "id": "0e98c913",
   "metadata": {},
   "outputs": [],
   "source": [
    "alltime_word_counts = Counter(all_time_words)\n",
    "alltime_word_counts = sorted(alltime_word_counts.items(), key = lambda x:x[1], reverse = True)\n",
    "alltime_word_counts = pd.Series(dict(alltime_word_counts))"
   ]
  },
  {
   "cell_type": "code",
   "execution_count": 37,
   "id": "f75006e8",
   "metadata": {},
   "outputs": [
    {
     "data": {
      "text/plain": [
       "family         321\n",
       "friend         310\n",
       "find           309\n",
       "young          277\n",
       "series         247\n",
       "documentary    242\n",
       "story          199\n",
       "love           186\n",
       "school         175\n",
       "help           174\n",
       "team           168\n",
       "home           168\n",
       "man            164\n",
       "special        157\n",
       "save           149\n",
       "teen           146\n",
       "show           143\n",
       "group          138\n",
       "high           137\n",
       "comedy         130\n",
       "set            128\n",
       "three          127\n",
       "adventure      117\n",
       "star           117\n",
       "make           114\n",
       "turn           114\n",
       "father         113\n",
       "power          112\n",
       "fight          111\n",
       "standup        111\n",
       "dtype: int64"
      ]
     },
     "execution_count": 37,
     "metadata": {},
     "output_type": "execute_result"
    }
   ],
   "source": [
    "alltime_word_counts[:30]"
   ]
  },
  {
   "cell_type": "code",
   "execution_count": 38,
   "id": "87906203",
   "metadata": {},
   "outputs": [],
   "source": [
    "recent_three_year_time_words = []\n",
    "\n",
    "for t in df_us_recent_three_years['clean_description']:\n",
    "    for w in t.split(\" \"):\n",
    "        if w not in customized_stop_word:\n",
    "            recent_three_year_time_words.append(w)"
   ]
  },
  {
   "cell_type": "code",
   "execution_count": 39,
   "id": "900b6df6",
   "metadata": {},
   "outputs": [],
   "source": [
    "recent_three_year_word_counts = Counter(recent_three_year_time_words)\n",
    "recent_three_year_word_counts = sorted(recent_three_year_word_counts.items(), key = lambda x:x[1], reverse = True)\n",
    "recent_three_year_word_counts = pd.Series(dict(recent_three_year_word_counts))"
   ]
  },
  {
   "cell_type": "code",
   "execution_count": 40,
   "id": "c6e346e9",
   "metadata": {},
   "outputs": [
    {
     "data": {
      "text/plain": [
       "family         237\n",
       "find           215\n",
       "friend         207\n",
       "young          178\n",
       "series         160\n",
       "love           135\n",
       "home           129\n",
       "help           128\n",
       "documentary    125\n",
       "school         118\n",
       "man            116\n",
       "team           113\n",
       "story          112\n",
       "teen           111\n",
       "save           108\n",
       "group          107\n",
       "special         96\n",
       "high            90\n",
       "turn            86\n",
       "father          84\n",
       "time            83\n",
       "show            82\n",
       "daughter        81\n",
       "secret          81\n",
       "three           80\n",
       "make            79\n",
       "set             79\n",
       "try             78\n",
       "adventure       77\n",
       "town            76\n",
       "dtype: int64"
      ]
     },
     "execution_count": 40,
     "metadata": {},
     "output_type": "execute_result"
    }
   ],
   "source": [
    "recent_three_year_word_counts[:30]"
   ]
  },
  {
   "cell_type": "code",
   "execution_count": 41,
   "id": "9168cfa5",
   "metadata": {},
   "outputs": [],
   "source": [
    "# from another notebook\n",
    "increasingly_popular_keywords = ['save',\n",
    " 'time',\n",
    " 'docuseries',\n",
    " 'secret',\n",
    " 'dream',\n",
    " 'share',\n",
    " 'try',\n",
    " 'force',\n",
    " 'power',\n",
    " 'daughter',\n",
    " 'crime']"
   ]
  },
  {
   "cell_type": "markdown",
   "id": "eadb7b05",
   "metadata": {},
   "source": [
    "## 3. Some Exploratory Visualization"
   ]
  },
  {
   "cell_type": "code",
   "execution_count": 42,
   "id": "d2856fa7",
   "metadata": {},
   "outputs": [
    {
     "data": {
      "image/png": "[encoded data removed]",
      "text/plain": [
       "<Figure size 432x288 with 1 Axes>"
      ]
     },
     "metadata": {},
     "output_type": "display_data"
    }
   ],
   "source": [
    "sns.countplot(x=df_us_alltime['type'])\n",
    "plt.show()"
   ]
  },
  {
   "cell_type": "code",
   "execution_count": 43,
   "id": "e1947e12",
   "metadata": {},
   "outputs": [
    {
     "data": {
      "image/png": "[encoded data removed]",
      "text/plain": [
       "<Figure size 432x288 with 1 Axes>"
      ]
     },
     "metadata": {},
     "output_type": "display_data"
    }
   ],
   "source": [
    "sns.countplot(x=df_us_recent_three_years['type'])\n",
    "plt.title('Movie vs. TV Shows in Recent 3 Years')\n",
    "plt.show()"
   ]
  },
  {
   "cell_type": "code",
   "execution_count": 44,
   "id": "7a6cc45c",
   "metadata": {},
   "outputs": [
    {
     "data": {
      "image/png": "[encoded data removed]",
      "text/plain": [
       "<Figure size 432x288 with 1 Axes>"
      ]
     },
     "metadata": {},
     "output_type": "display_data"
    }
   ],
   "source": [
    "sns.countplot(x=df_us_recent_three_years['targeted_age'])\n",
    "plt.show()"
   ]
  },
  {
   "cell_type": "code",
   "execution_count": 45,
   "id": "e71773a6",
   "metadata": {},
   "outputs": [
    {
     "data": {
      "image/png": "[encoded data removed]",
      "text/plain": [
       "<Figure size 432x288 with 1 Axes>"
      ]
     },
     "metadata": {},
     "output_type": "display_data"
    }
   ],
   "source": [
    "sns.countplot(x=df_us_alltime['targeted_age'])\n",
    "plt.show()"
   ]
  },
  {
   "cell_type": "markdown",
   "id": "7f53516e",
   "metadata": {},
   "source": [
    "## 4. Target Age Trends"
   ]
  },
  {
   "cell_type": "code",
   "execution_count": 46,
   "id": "97db72f8",
   "metadata": {},
   "outputs": [],
   "source": [
    "from collections import defaultdict"
   ]
  },
  {
   "cell_type": "code",
   "execution_count": 47,
   "id": "5b5b5031",
   "metadata": {},
   "outputs": [],
   "source": [
    "target_age_by_year = defaultdict(dict)"
   ]
  },
  {
   "cell_type": "code",
   "execution_count": 48,
   "id": "261add5f",
   "metadata": {},
   "outputs": [],
   "source": [
    "for i in sorted(df_us_alltime['year_added'].unique()):\n",
    "    df_us_this_year = df_us_alltime[df_us_alltime['year_added'] == i]\n",
    "    row1 = df_us_this_year.shape[0]\n",
    "    \n",
    "    for t in df_us_this_year['targeted_age'].unique():\n",
    "        df_us_this_year_age = df_us_this_year[df_us_this_year['targeted_age'] == t]\n",
    "        row2 = df_us_this_year_age.shape[0]\n",
    "        age_percent = round(row2/row1, 2)\n",
    "        target_age_by_year[i][t] = age_percent"
   ]
  },
  {
   "cell_type": "code",
   "execution_count": 49,
   "id": "080ed28f",
   "metadata": {},
   "outputs": [
    {
     "data": {
      "text/plain": [
       "defaultdict(dict,\n",
       "            {2008: {'Adults': 1.0},\n",
       "             2009: {'Adults': 1.0},\n",
       "             2010: {'Adults': 1.0},\n",
       "             2011: {'Teens': 0.42, 'Adults': 0.17, 'Older Kids': 0.42},\n",
       "             2012: {'Older Kids': 0.67, 'Adults': 0.33},\n",
       "             2013: {'Kids': 0.1,\n",
       "              'Older Kids': 0.1,\n",
       "              'Adults': 0.6,\n",
       "              'Teens': 0.2},\n",
       "             2014: {'Adults': 0.5,\n",
       "              'Teens': 0.09,\n",
       "              'Older Kids': 0.32,\n",
       "              'Kids': 0.09},\n",
       "             2015: {'Adults': 0.5,\n",
       "              'Teens': 0.23,\n",
       "              'Kids': 0.1,\n",
       "              'Older Kids': 0.17},\n",
       "             2016: {'Teens': 0.19,\n",
       "              'Adults': 0.46,\n",
       "              'Kids': 0.08,\n",
       "              'Older Kids': 0.27},\n",
       "             2017: {'Adults': 0.48,\n",
       "              'Teens': 0.25,\n",
       "              'Kids': 0.07,\n",
       "              'Older Kids': 0.19},\n",
       "             2018: {'Adults': 0.51,\n",
       "              'Older Kids': 0.18,\n",
       "              'Teens': 0.22,\n",
       "              'Kids': 0.09},\n",
       "             2019: {'Teens': 0.27,\n",
       "              'Adults': 0.46,\n",
       "              'Older Kids': 0.21,\n",
       "              'Kids': 0.07},\n",
       "             2020: {'Adults': 0.45,\n",
       "              'Teens': 0.25,\n",
       "              'Kids': 0.1,\n",
       "              'Older Kids': 0.2},\n",
       "             2021: {'Teens': 0.31,\n",
       "              'Adults': 0.43,\n",
       "              'Older Kids': 0.18,\n",
       "              'Kids': 0.08}})"
      ]
     },
     "execution_count": 49,
     "metadata": {},
     "output_type": "execute_result"
    }
   ],
   "source": [
    "target_age_by_year"
   ]
  },
  {
   "cell_type": "code",
   "execution_count": 50,
   "id": "571f0b76",
   "metadata": {},
   "outputs": [],
   "source": [
    "year_that_has_adults = []\n",
    "adults_over_year = []\n",
    "for i in target_age_by_year.items():\n",
    "    if 'Adults' in i[1].keys():\n",
    "        year_that_has_adults.append(i[0])\n",
    "        adults_over_year.append(i[1].get('Adults'))"
   ]
  },
  {
   "cell_type": "code",
   "execution_count": 51,
   "id": "01d24fd1",
   "metadata": {},
   "outputs": [
    {
     "data": {
      "text/plain": [
       "[2008,\n",
       " 2009,\n",
       " 2010,\n",
       " 2011,\n",
       " 2012,\n",
       " 2013,\n",
       " 2014,\n",
       " 2015,\n",
       " 2016,\n",
       " 2017,\n",
       " 2018,\n",
       " 2019,\n",
       " 2020,\n",
       " 2021]"
      ]
     },
     "execution_count": 51,
     "metadata": {},
     "output_type": "execute_result"
    }
   ],
   "source": [
    "year_that_has_adults"
   ]
  },
  {
   "cell_type": "code",
   "execution_count": 52,
   "id": "8847449b",
   "metadata": {},
   "outputs": [
    {
     "data": {
      "text/plain": [
       "[1.0, 1.0, 1.0, 0.17, 0.33, 0.6, 0.5, 0.5, 0.46, 0.48, 0.51, 0.46, 0.45, 0.43]"
      ]
     },
     "execution_count": 52,
     "metadata": {},
     "output_type": "execute_result"
    }
   ],
   "source": [
    "adults_over_year"
   ]
  },
  {
   "cell_type": "code",
   "execution_count": 53,
   "id": "74d65ea9",
   "metadata": {},
   "outputs": [
    {
     "data": {
      "text/plain": [
       "Text(0.5, 1.0, 'Adults')"
      ]
     },
     "execution_count": 53,
     "metadata": {},
     "output_type": "execute_result"
    },
    {
     "data": {
      "image/png": "[encoded data removed]",
      "text/plain": [
       "<Figure size 432x288 with 1 Axes>"
      ]
     },
     "metadata": {},
     "output_type": "display_data"
    }
   ],
   "source": [
    "plt.plot(year_that_has_adults, adults_over_year)\n",
    "plt.title('Adults')"
   ]
  },
  {
   "cell_type": "code",
   "execution_count": 54,
   "id": "88636ca6",
   "metadata": {},
   "outputs": [],
   "source": [
    "year_that_has_kids = []\n",
    "kids_over_year = []\n",
    "for i in target_age_by_year.items():\n",
    "    if 'Kids' in i[1].keys():\n",
    "        year_that_has_kids.append(i[0])\n",
    "        kids_over_year.append(i[1].get('Kids'))"
   ]
  },
  {
   "cell_type": "code",
   "execution_count": 55,
   "id": "bd075ba0",
   "metadata": {},
   "outputs": [
    {
     "data": {
      "text/plain": [
       "[2013, 2014, 2015, 2016, 2017, 2018, 2019, 2020, 2021]"
      ]
     },
     "execution_count": 55,
     "metadata": {},
     "output_type": "execute_result"
    }
   ],
   "source": [
    "year_that_has_kids"
   ]
  },
  {
   "cell_type": "code",
   "execution_count": 112,
   "id": "b010aad1",
   "metadata": {},
   "outputs": [
    {
     "data": {
      "text/plain": [
       "Text(0.5, 1.0, 'Kids')"
      ]
     },
     "execution_count": 112,
     "metadata": {},
     "output_type": "execute_result"
    },
    {
     "data": {
      "image/png": "[encoded data removed]",
      "text/plain": [
       "<Figure size 432x288 with 1 Axes>"
      ]
     },
     "metadata": {},
     "output_type": "display_data"
    }
   ],
   "source": [
    "plt.plot(year_that_has_kids, kids_over_year)\n",
    "plt.title('Kids')"
   ]
  },
  {
   "cell_type": "code",
   "execution_count": 57,
   "id": "933575d5",
   "metadata": {},
   "outputs": [],
   "source": [
    "year_that_has_older_kids = []\n",
    "older_kids_over_year = []\n",
    "for i in target_age_by_year.items():\n",
    "    if 'Older Kids' in i[1].keys():\n",
    "        year_that_has_older_kids.append(i[0])\n",
    "        older_kids_over_year.append(i[1].get('Older Kids'))"
   ]
  },
  {
   "cell_type": "code",
   "execution_count": 113,
   "id": "cd6ef196",
   "metadata": {},
   "outputs": [
    {
     "data": {
      "text/plain": [
       "Text(0.5, 1.0, 'Older Kids')"
      ]
     },
     "execution_count": 113,
     "metadata": {},
     "output_type": "execute_result"
    },
    {
     "data": {
      "image/png": "[encoded data removed]",
      "text/plain": [
       "<Figure size 432x288 with 1 Axes>"
      ]
     },
     "metadata": {},
     "output_type": "display_data"
    }
   ],
   "source": [
    "plt.plot(year_that_has_older_kids, older_kids_over_year)\n",
    "plt.title('Older Kids')"
   ]
  },
  {
   "cell_type": "code",
   "execution_count": 59,
   "id": "43afd404",
   "metadata": {},
   "outputs": [],
   "source": [
    "year_that_has_teens = []\n",
    "teens_over_year = []\n",
    "for i in target_age_by_year.items():\n",
    "    if 'Teens' in i[1].keys():\n",
    "        year_that_has_teens.append(i[0])\n",
    "        teens_over_year.append(i[1].get('Teens'))"
   ]
  },
  {
   "cell_type": "code",
   "execution_count": 114,
   "id": "4899be6b",
   "metadata": {},
   "outputs": [
    {
     "data": {
      "text/plain": [
       "Text(0.5, 1.0, 'Teens')"
      ]
     },
     "execution_count": 114,
     "metadata": {},
     "output_type": "execute_result"
    },
    {
     "data": {
      "image/png": "[encoded data removed]",
      "text/plain": [
       "<Figure size 432x288 with 1 Axes>"
      ]
     },
     "metadata": {},
     "output_type": "display_data"
    }
   ],
   "source": [
    "plt.plot(year_that_has_teens, teens_over_year)\n",
    "plt.title('Teens')"
   ]
  },
  {
   "cell_type": "markdown",
   "id": "1d9eab66",
   "metadata": {},
   "source": [
    "## 5. Movie Length & TV Shows Seasons Trends"
   ]
  },
  {
   "cell_type": "code",
   "execution_count": 61,
   "id": "8aded143",
   "metadata": {},
   "outputs": [
    {
     "data": {
      "text/html": [
       "<div>\n",
       "<style scoped>\n",
       "    .dataframe tbody tr th:only-of-type {\n",
       "        vertical-align: middle;\n",
       "    }\n",
       "\n",
       "    .dataframe tbody tr th {\n",
       "        vertical-align: top;\n",
       "    }\n",
       "\n",
       "    .dataframe thead th {\n",
       "        text-align: right;\n",
       "    }\n",
       "</style>\n",
       "<table border=\"1\" class=\"dataframe\">\n",
       "  <thead>\n",
       "    <tr style=\"text-align: right;\">\n",
       "      <th></th>\n",
       "      <th>show_id</th>\n",
       "      <th>type</th>\n",
       "      <th>title</th>\n",
       "      <th>director</th>\n",
       "      <th>cast</th>\n",
       "      <th>country</th>\n",
       "      <th>date_added</th>\n",
       "      <th>release_year</th>\n",
       "      <th>rating</th>\n",
       "      <th>duration</th>\n",
       "      <th>listed_in</th>\n",
       "      <th>description</th>\n",
       "      <th>month_added</th>\n",
       "      <th>year_added</th>\n",
       "      <th>targeted_age</th>\n",
       "      <th>clean_description</th>\n",
       "    </tr>\n",
       "  </thead>\n",
       "  <tbody>\n",
       "    <tr>\n",
       "      <th>0</th>\n",
       "      <td>s1</td>\n",
       "      <td>Movie</td>\n",
       "      <td>Dick Johnson Is Dead</td>\n",
       "      <td>Kirsten Johnson</td>\n",
       "      <td>NaN</td>\n",
       "      <td>United States</td>\n",
       "      <td>2021-09-25</td>\n",
       "      <td>2020</td>\n",
       "      <td>PG-13</td>\n",
       "      <td>90 min</td>\n",
       "      <td>Documentaries</td>\n",
       "      <td>As her father nears the end of his life, filmm...</td>\n",
       "      <td>September</td>\n",
       "      <td>2021</td>\n",
       "      <td>Teens</td>\n",
       "      <td>father nears end life filmmaker kirsten johnso...</td>\n",
       "    </tr>\n",
       "    <tr>\n",
       "      <th>2</th>\n",
       "      <td>s3</td>\n",
       "      <td>TV Show</td>\n",
       "      <td>Ganglands</td>\n",
       "      <td>Julien Leclercq</td>\n",
       "      <td>Sami Bouajila, Tracy Gotoas, Samuel Jouy, Nabi...</td>\n",
       "      <td>United States</td>\n",
       "      <td>2021-09-24</td>\n",
       "      <td>2021</td>\n",
       "      <td>TV-MA</td>\n",
       "      <td>1 Season</td>\n",
       "      <td>Crime TV Shows, International TV Shows, TV Act...</td>\n",
       "      <td>To protect his family from a powerful drug lor...</td>\n",
       "      <td>September</td>\n",
       "      <td>2021</td>\n",
       "      <td>Adults</td>\n",
       "      <td>protect family powerful drug lord skilled thie...</td>\n",
       "    </tr>\n",
       "    <tr>\n",
       "      <th>3</th>\n",
       "      <td>s4</td>\n",
       "      <td>TV Show</td>\n",
       "      <td>Jailbirds New Orleans</td>\n",
       "      <td>NaN</td>\n",
       "      <td>NaN</td>\n",
       "      <td>United States</td>\n",
       "      <td>2021-09-24</td>\n",
       "      <td>2021</td>\n",
       "      <td>TV-MA</td>\n",
       "      <td>1 Season</td>\n",
       "      <td>Docuseries, Reality TV</td>\n",
       "      <td>Feuds, flirtations and toilet talk go down amo...</td>\n",
       "      <td>September</td>\n",
       "      <td>2021</td>\n",
       "      <td>Adults</td>\n",
       "      <td>feud flirtation toilet talk among incarcerated...</td>\n",
       "    </tr>\n",
       "  </tbody>\n",
       "</table>\n",
       "</div>"
      ],
      "text/plain": [
       "  show_id     type                  title         director  \\\n",
       "0      s1    Movie   Dick Johnson Is Dead  Kirsten Johnson   \n",
       "2      s3  TV Show              Ganglands  Julien Leclercq   \n",
       "3      s4  TV Show  Jailbirds New Orleans              NaN   \n",
       "\n",
       "                                                cast        country  \\\n",
       "0                                                NaN  United States   \n",
       "2  Sami Bouajila, Tracy Gotoas, Samuel Jouy, Nabi...  United States   \n",
       "3                                                NaN  United States   \n",
       "\n",
       "  date_added  release_year rating  duration  \\\n",
       "0 2021-09-25          2020  PG-13    90 min   \n",
       "2 2021-09-24          2021  TV-MA  1 Season   \n",
       "3 2021-09-24          2021  TV-MA  1 Season   \n",
       "\n",
       "                                           listed_in  \\\n",
       "0                                      Documentaries   \n",
       "2  Crime TV Shows, International TV Shows, TV Act...   \n",
       "3                             Docuseries, Reality TV   \n",
       "\n",
       "                                         description month_added  year_added  \\\n",
       "0  As her father nears the end of his life, filmm...   September        2021   \n",
       "2  To protect his family from a powerful drug lor...   September        2021   \n",
       "3  Feuds, flirtations and toilet talk go down amo...   September        2021   \n",
       "\n",
       "  targeted_age                                  clean_description  \n",
       "0        Teens  father nears end life filmmaker kirsten johnso...  \n",
       "2       Adults  protect family powerful drug lord skilled thie...  \n",
       "3       Adults  feud flirtation toilet talk among incarcerated...  "
      ]
     },
     "execution_count": 61,
     "metadata": {},
     "output_type": "execute_result"
    }
   ],
   "source": [
    "df_us_alltime.head(3)"
   ]
  },
  {
   "cell_type": "code",
   "execution_count": 62,
   "id": "b0074741",
   "metadata": {},
   "outputs": [
    {
     "data": {
      "text/html": [
       "<div>\n",
       "<style scoped>\n",
       "    .dataframe tbody tr th:only-of-type {\n",
       "        vertical-align: middle;\n",
       "    }\n",
       "\n",
       "    .dataframe tbody tr th {\n",
       "        vertical-align: top;\n",
       "    }\n",
       "\n",
       "    .dataframe thead th {\n",
       "        text-align: right;\n",
       "    }\n",
       "</style>\n",
       "<table border=\"1\" class=\"dataframe\">\n",
       "  <thead>\n",
       "    <tr style=\"text-align: right;\">\n",
       "      <th></th>\n",
       "      <th>show_id</th>\n",
       "      <th>type</th>\n",
       "      <th>title</th>\n",
       "      <th>director</th>\n",
       "      <th>cast</th>\n",
       "      <th>country</th>\n",
       "      <th>date_added</th>\n",
       "      <th>release_year</th>\n",
       "      <th>rating</th>\n",
       "      <th>duration</th>\n",
       "      <th>listed_in</th>\n",
       "      <th>description</th>\n",
       "      <th>month_added</th>\n",
       "      <th>year_added</th>\n",
       "      <th>targeted_age</th>\n",
       "      <th>clean_description</th>\n",
       "    </tr>\n",
       "  </thead>\n",
       "  <tbody>\n",
       "    <tr>\n",
       "      <th>0</th>\n",
       "      <td>s1</td>\n",
       "      <td>Movie</td>\n",
       "      <td>Dick Johnson Is Dead</td>\n",
       "      <td>Kirsten Johnson</td>\n",
       "      <td>NaN</td>\n",
       "      <td>United States</td>\n",
       "      <td>2021-09-25</td>\n",
       "      <td>2020</td>\n",
       "      <td>PG-13</td>\n",
       "      <td>90</td>\n",
       "      <td>Documentaries</td>\n",
       "      <td>As her father nears the end of his life, filmm...</td>\n",
       "      <td>September</td>\n",
       "      <td>2021</td>\n",
       "      <td>Teens</td>\n",
       "      <td>father nears end life filmmaker kirsten johnso...</td>\n",
       "    </tr>\n",
       "    <tr>\n",
       "      <th>6</th>\n",
       "      <td>s7</td>\n",
       "      <td>Movie</td>\n",
       "      <td>My Little Pony: A New Generation</td>\n",
       "      <td>Robert Cullen, José Luis Ucha</td>\n",
       "      <td>Vanessa Hudgens, Kimiko Glenn, James Marsden, ...</td>\n",
       "      <td>United States</td>\n",
       "      <td>2021-09-24</td>\n",
       "      <td>2021</td>\n",
       "      <td>PG</td>\n",
       "      <td>91</td>\n",
       "      <td>Children &amp; Family Movies</td>\n",
       "      <td>Equestria's divided. But a bright-eyed hero be...</td>\n",
       "      <td>September</td>\n",
       "      <td>2021</td>\n",
       "      <td>Older Kids</td>\n",
       "      <td>equestrias divided brighteyed hero belief eart...</td>\n",
       "    </tr>\n",
       "    <tr>\n",
       "      <th>7</th>\n",
       "      <td>s8</td>\n",
       "      <td>Movie</td>\n",
       "      <td>Sankofa</td>\n",
       "      <td>Haile Gerima</td>\n",
       "      <td>Kofi Ghanaba, Oyafunmike Ogunlano, Alexandra D...</td>\n",
       "      <td>United States, Ghana, Burkina Faso, United Kin...</td>\n",
       "      <td>2021-09-24</td>\n",
       "      <td>1993</td>\n",
       "      <td>TV-MA</td>\n",
       "      <td>125</td>\n",
       "      <td>Dramas, Independent Movies, International Movies</td>\n",
       "      <td>On a photo shoot in Ghana, an American model s...</td>\n",
       "      <td>September</td>\n",
       "      <td>2021</td>\n",
       "      <td>Adults</td>\n",
       "      <td>photo shoot ghana american model slip back tim...</td>\n",
       "    </tr>\n",
       "  </tbody>\n",
       "</table>\n",
       "</div>"
      ],
      "text/plain": [
       "  show_id   type                             title  \\\n",
       "0      s1  Movie              Dick Johnson Is Dead   \n",
       "6      s7  Movie  My Little Pony: A New Generation   \n",
       "7      s8  Movie                           Sankofa   \n",
       "\n",
       "                        director  \\\n",
       "0                Kirsten Johnson   \n",
       "6  Robert Cullen, José Luis Ucha   \n",
       "7                   Haile Gerima   \n",
       "\n",
       "                                                cast  \\\n",
       "0                                                NaN   \n",
       "6  Vanessa Hudgens, Kimiko Glenn, James Marsden, ...   \n",
       "7  Kofi Ghanaba, Oyafunmike Ogunlano, Alexandra D...   \n",
       "\n",
       "                                             country date_added  release_year  \\\n",
       "0                                      United States 2021-09-25          2020   \n",
       "6                                      United States 2021-09-24          2021   \n",
       "7  United States, Ghana, Burkina Faso, United Kin... 2021-09-24          1993   \n",
       "\n",
       "  rating  duration                                         listed_in  \\\n",
       "0  PG-13        90                                     Documentaries   \n",
       "6     PG        91                          Children & Family Movies   \n",
       "7  TV-MA       125  Dramas, Independent Movies, International Movies   \n",
       "\n",
       "                                         description month_added  year_added  \\\n",
       "0  As her father nears the end of his life, filmm...   September        2021   \n",
       "6  Equestria's divided. But a bright-eyed hero be...   September        2021   \n",
       "7  On a photo shoot in Ghana, an American model s...   September        2021   \n",
       "\n",
       "  targeted_age                                  clean_description  \n",
       "0        Teens  father nears end life filmmaker kirsten johnso...  \n",
       "6   Older Kids  equestrias divided brighteyed hero belief eart...  \n",
       "7       Adults  photo shoot ghana american model slip back tim...  "
      ]
     },
     "execution_count": 62,
     "metadata": {},
     "output_type": "execute_result"
    }
   ],
   "source": [
    "df_us_alltime_movie = df_us_alltime[df_us_alltime['type'] == 'Movie']\n",
    "df_us_alltime_movie['duration'] = df_us_alltime_movie['duration'].apply(\n",
    "    lambda x: int(x.split(' ')[0]))\n",
    "df_us_alltime_movie.head(3)"
   ]
  },
  {
   "cell_type": "code",
   "execution_count": 63,
   "id": "35e79fbe",
   "metadata": {},
   "outputs": [
    {
     "data": {
      "text/plain": [
       "nan"
      ]
     },
     "execution_count": 63,
     "metadata": {},
     "output_type": "execute_result"
    }
   ],
   "source": [
    "df_us_alltime_movie_this_year = df_us_alltime_movie[df_us_alltime_movie['year_added'] == 2020]\n",
    "df_us_alltime_movie_this_year_this_month = df_us_alltime_movie_this_year[df_us_alltime_movie_this_year['month_added'] == 'u']\n",
    "np.mean(df_us_alltime_movie_this_year_this_month['duration'])"
   ]
  },
  {
   "cell_type": "code",
   "execution_count": 64,
   "id": "ada0aa9e",
   "metadata": {},
   "outputs": [
    {
     "data": {
      "text/plain": [
       "[81.0,\n",
       " nan,\n",
       " nan,\n",
       " nan,\n",
       " nan,\n",
       " nan,\n",
       " nan,\n",
       " nan,\n",
       " nan,\n",
       " nan,\n",
       " nan,\n",
       " nan,\n",
       " nan,\n",
       " nan,\n",
       " nan,\n",
       " nan,\n",
       " nan,\n",
       " nan,\n",
       " nan,\n",
       " nan,\n",
       " 29.0,\n",
       " nan,\n",
       " nan,\n",
       " nan,\n",
       " nan,\n",
       " nan,\n",
       " nan,\n",
       " nan,\n",
       " nan,\n",
       " nan,\n",
       " nan,\n",
       " 84.0,\n",
       " nan,\n",
       " nan,\n",
       " nan,\n",
       " nan,\n",
       " nan,\n",
       " nan,\n",
       " nan,\n",
       " nan,\n",
       " nan,\n",
       " 94.27,\n",
       " nan,\n",
       " nan,\n",
       " nan,\n",
       " 76.0,\n",
       " nan,\n",
       " nan,\n",
       " nan,\n",
       " nan,\n",
       " nan,\n",
       " nan,\n",
       " nan,\n",
       " 84.0,\n",
       " 26.0,\n",
       " nan,\n",
       " nan,\n",
       " nan,\n",
       " nan,\n",
       " nan,\n",
       " nan,\n",
       " nan,\n",
       " nan,\n",
       " 72.0,\n",
       " 80.0,\n",
       " 115.0,\n",
       " 99.0,\n",
       " 72.0,\n",
       " nan,\n",
       " 35.0,\n",
       " nan,\n",
       " 78.0,\n",
       " 80.0,\n",
       " 94.0,\n",
       " 75.0,\n",
       " 75.0,\n",
       " 66.2,\n",
       " 72.0,\n",
       " 70.67,\n",
       " 72.33,\n",
       " 84.0,\n",
       " 83.2,\n",
       " 88.0,\n",
       " 80.5,\n",
       " 62.0,\n",
       " 90.0,\n",
       " 76.5,\n",
       " 69.33,\n",
       " 37.91,\n",
       " 77.11,\n",
       " 76.25,\n",
       " 85.27,\n",
       " 71.0,\n",
       " 84.25,\n",
       " 93.0,\n",
       " 73.5,\n",
       " 76.83,\n",
       " 79.27,\n",
       " 83.15,\n",
       " 83.36,\n",
       " 85.35,\n",
       " 75.92,\n",
       " 85.56,\n",
       " 87.73,\n",
       " 86.87,\n",
       " 84.44,\n",
       " 93.24,\n",
       " 85.53,\n",
       " 95.1,\n",
       " 84.76,\n",
       " 84.27,\n",
       " 90.25,\n",
       " 90.56,\n",
       " 90.2,\n",
       " 71.82,\n",
       " 96.39,\n",
       " 91.7,\n",
       " 87.34,\n",
       " 95.83,\n",
       " 87.24,\n",
       " 85.56,\n",
       " 103.48,\n",
       " 77.1,\n",
       " 95.85,\n",
       " 92.42,\n",
       " 87.04,\n",
       " 92.96,\n",
       " 83.15,\n",
       " 96.15,\n",
       " 90.54,\n",
       " 100.78,\n",
       " 96.89,\n",
       " 102.12,\n",
       " 95.95,\n",
       " 89.0,\n",
       " 98.51,\n",
       " 103.94,\n",
       " 98.52,\n",
       " 95.53,\n",
       " 92.72,\n",
       " 94.48,\n",
       " 90.44,\n",
       " 91.07,\n",
       " 102.49,\n",
       " 101.5,\n",
       " 104.55,\n",
       " 97.38,\n",
       " 96.21,\n",
       " 101.48,\n",
       " 98.66,\n",
       " 105.45,\n",
       " nan,\n",
       " nan,\n",
       " nan]"
      ]
     },
     "execution_count": 64,
     "metadata": {},
     "output_type": "execute_result"
    }
   ],
   "source": [
    "duration_all_month = []\n",
    "for i in sorted(df_us_alltime_movie['year_added'].unique()):\n",
    "    df_us_alltime_movie_this_year = df_us_alltime_movie[df_us_alltime_movie['year_added'] == i]\n",
    "    for t in ['January','February','March','April','May','June','July','August','October','November','December']:\n",
    "        df_us_alltime_movie_this_year_this_month = df_us_alltime_movie_this_year[df_us_alltime_movie_this_year['month_added'] == t]\n",
    "        duration_all_month.append(round(np.mean(df_us_alltime_movie_this_year_this_month['duration']),2))\n",
    "duration_all_month"
   ]
  },
  {
   "cell_type": "code",
   "execution_count": 65,
   "id": "a5568525",
   "metadata": {},
   "outputs": [
    {
     "data": {
      "text/plain": [
       "['81',\n",
       " '84',\n",
       " '84',\n",
       " '84',\n",
       " '84',\n",
       " '84',\n",
       " '84',\n",
       " '84',\n",
       " '84',\n",
       " '84',\n",
       " '84',\n",
       " '84',\n",
       " '84',\n",
       " '84',\n",
       " '84',\n",
       " '84',\n",
       " '84',\n",
       " '84',\n",
       " '84',\n",
       " '84',\n",
       " '29',\n",
       " '84',\n",
       " '84',\n",
       " '84',\n",
       " '84',\n",
       " '84',\n",
       " '84',\n",
       " '84',\n",
       " '84',\n",
       " '84',\n",
       " '84',\n",
       " '84',\n",
       " '84',\n",
       " '84',\n",
       " '84',\n",
       " '84',\n",
       " '84',\n",
       " '84',\n",
       " '84',\n",
       " '84',\n",
       " '84',\n",
       " '94',\n",
       " '84',\n",
       " '84',\n",
       " '84',\n",
       " '76',\n",
       " '84',\n",
       " '84',\n",
       " '84',\n",
       " '84',\n",
       " '84',\n",
       " '84',\n",
       " '84',\n",
       " '84',\n",
       " '26',\n",
       " '84',\n",
       " '84',\n",
       " '84',\n",
       " '84',\n",
       " '84',\n",
       " '84',\n",
       " '84',\n",
       " '84',\n",
       " '72',\n",
       " '80',\n",
       " '115',\n",
       " '99',\n",
       " '72',\n",
       " '84',\n",
       " '35',\n",
       " '84',\n",
       " '78',\n",
       " '80',\n",
       " '94',\n",
       " '75',\n",
       " '75',\n",
       " '66',\n",
       " '72',\n",
       " '70',\n",
       " '72',\n",
       " '84',\n",
       " '83',\n",
       " '88',\n",
       " '80',\n",
       " '62',\n",
       " '90',\n",
       " '76',\n",
       " '69',\n",
       " '37',\n",
       " '77',\n",
       " '76',\n",
       " '85',\n",
       " '71',\n",
       " '84',\n",
       " '93',\n",
       " '73',\n",
       " '76',\n",
       " '79',\n",
       " '83',\n",
       " '83',\n",
       " '85',\n",
       " '75',\n",
       " '85',\n",
       " '87',\n",
       " '86',\n",
       " '84',\n",
       " '93',\n",
       " '85',\n",
       " '95',\n",
       " '84',\n",
       " '84',\n",
       " '90',\n",
       " '90',\n",
       " '90',\n",
       " '71',\n",
       " '96',\n",
       " '91',\n",
       " '87',\n",
       " '95',\n",
       " '87',\n",
       " '85',\n",
       " '103',\n",
       " '77',\n",
       " '95',\n",
       " '92',\n",
       " '87',\n",
       " '92',\n",
       " '83',\n",
       " '96',\n",
       " '90',\n",
       " '100',\n",
       " '96',\n",
       " '102',\n",
       " '95',\n",
       " '89',\n",
       " '98',\n",
       " '103',\n",
       " '98',\n",
       " '95',\n",
       " '92',\n",
       " '94',\n",
       " '90',\n",
       " '91',\n",
       " '102',\n",
       " '101',\n",
       " '104',\n",
       " '97',\n",
       " '96',\n",
       " '101',\n",
       " '98',\n",
       " '105',\n",
       " '84',\n",
       " '84',\n",
       " '84']"
      ]
     },
     "execution_count": 65,
     "metadata": {},
     "output_type": "execute_result"
    }
   ],
   "source": [
    "temp_str = ','.join(str(x) for x in duration_all_month)\n",
    "temp_str = temp_str.replace('nan', str(np.nanmean(duration_all_month)))\n",
    "duration_all_month = [x for x in temp_str.split(',')]\n",
    "duration_all_month_new = []\n",
    "for i in duration_all_month:\n",
    "    duration_all_month_new.append(i.split('.')[0])\n",
    "duration_all_month_new"
   ]
  },
  {
   "cell_type": "code",
   "execution_count": 66,
   "id": "0389786a",
   "metadata": {},
   "outputs": [],
   "source": [
    "duration_all_month_new_new = []\n",
    "for i in duration_all_month_new:\n",
    "    duration_all_month_new_new.append(int(i))"
   ]
  },
  {
   "cell_type": "code",
   "execution_count": 67,
   "id": "d66af167",
   "metadata": {},
   "outputs": [
    {
     "data": {
      "text/plain": [
       "[81, 84, 84, 84, 84]"
      ]
     },
     "execution_count": 67,
     "metadata": {},
     "output_type": "execute_result"
    }
   ],
   "source": [
    "duration_all_month_new_new[:5]"
   ]
  },
  {
   "cell_type": "code",
   "execution_count": 68,
   "id": "b3d15068",
   "metadata": {},
   "outputs": [],
   "source": [
    "timeframe = [i for i in range(len(duration_all_month_new_new))]"
   ]
  },
  {
   "cell_type": "code",
   "execution_count": 69,
   "id": "eda15b61",
   "metadata": {},
   "outputs": [
    {
     "data": {
      "text/plain": [
       "([], [])"
      ]
     },
     "execution_count": 69,
     "metadata": {},
     "output_type": "execute_result"
    },
    {
     "data": {
      "image/png": "[encoded data removed]",
      "text/plain": [
       "<Figure size 432x288 with 1 Axes>"
      ]
     },
     "metadata": {},
     "output_type": "display_data"
    }
   ],
   "source": [
    "plt.plot(timeframe, duration_all_month_new_new)\n",
    "plt.xticks([])"
   ]
  },
  {
   "cell_type": "code",
   "execution_count": 70,
   "id": "2cd1b8f3",
   "metadata": {},
   "outputs": [],
   "source": [
    "import numpy as np\n",
    "import statsmodels.api as sm\n",
    "from statsmodels.robust.scale import mad\n",
    "from scipy.stats import t as student_t"
   ]
  },
  {
   "cell_type": "code",
   "execution_count": 71,
   "id": "664327b5",
   "metadata": {},
   "outputs": [],
   "source": [
    "def stl(series: np.ndarray, period: int):\n",
    "    \"\"\"\n",
    "    Seasonal-Trend decomposition\n",
    "    series : numpy.array\n",
    "        Time-series in ndarry\n",
    "    periood : int\n",
    "        Period of the seasonal component.\n",
    "        For example, if the  time series is monthly with a yearly cycle, then\n",
    "        freq=12.\n",
    "    \"\"\"\n",
    "    decomp = sm.tsa.seasonal_decompose(series, period=period)\n",
    "    return decomp.seasonal, decomp.trend, decomp.resid"
   ]
  },
  {
   "cell_type": "code",
   "execution_count": 72,
   "id": "a7974d00",
   "metadata": {},
   "outputs": [],
   "source": [
    "from typing import List, Dict, Optional"
   ]
  },
  {
   "cell_type": "code",
   "execution_count": 73,
   "id": "3d323ce1",
   "metadata": {},
   "outputs": [],
   "source": [
    "def plot_ts(ts: List[float], labels: List[str] = None) -> None:\n",
    "    if not labels:\n",
    "        labels = list(range(len(ts)))\n",
    "    plt.plot(labels, ts)\n",
    "    plt.grid()\n",
    "    plt.xlabel('date')\n",
    "    plt.ylabel('Movie Length')\n",
    "    plt.show()"
   ]
  },
  {
   "cell_type": "code",
   "execution_count": 74,
   "id": "55b86102",
   "metadata": {},
   "outputs": [],
   "source": [
    "seasonal, trend, resid = stl(np.array(duration_all_month_new_new), period=6)"
   ]
  },
  {
   "cell_type": "code",
   "execution_count": 75,
   "id": "d1de46d4",
   "metadata": {},
   "outputs": [
    {
     "name": "stdout",
     "output_type": "stream",
     "text": [
      "Original Timeseries\n"
     ]
    },
    {
     "data": {
      "image/png": "[encoded data removed]",
      "text/plain": [
       "<Figure size 432x288 with 1 Axes>"
      ]
     },
     "metadata": {},
     "output_type": "display_data"
    },
    {
     "name": "stdout",
     "output_type": "stream",
     "text": [
      "Seasonal Component\n"
     ]
    },
    {
     "data": {
      "image/png": "[encoded data removed]",
      "text/plain": [
       "<Figure size 432x288 with 1 Axes>"
      ]
     },
     "metadata": {},
     "output_type": "display_data"
    },
    {
     "name": "stdout",
     "output_type": "stream",
     "text": [
      "Trend Component\n"
     ]
    },
    {
     "data": {
      "image/png": "[encoded data removed]",
      "text/plain": [
       "<Figure size 432x288 with 1 Axes>"
      ]
     },
     "metadata": {},
     "output_type": "display_data"
    },
    {
     "name": "stdout",
     "output_type": "stream",
     "text": [
      "Residual Component\n"
     ]
    },
    {
     "data": {
      "image/png": "[encoded data removed]",
      "text/plain": [
       "<Figure size 432x288 with 1 Axes>"
      ]
     },
     "metadata": {},
     "output_type": "display_data"
    }
   ],
   "source": [
    "print('Original Timeseries')\n",
    "plot_ts(duration_all_month_new_new)\n",
    "print('Seasonal Component')\n",
    "plot_ts(seasonal)\n",
    "print('Trend Component')\n",
    "plot_ts(trend)\n",
    "print('Residual Component')\n",
    "plot_ts(resid)"
   ]
  },
  {
   "cell_type": "code",
   "execution_count": 76,
   "id": "86a89f72",
   "metadata": {},
   "outputs": [],
   "source": [
    "from statsmodels.robust.scale import mad\n",
    "from scipy.stats import t as student_t\n",
    "import math"
   ]
  },
  {
   "cell_type": "code",
   "execution_count": 77,
   "id": "d1c7b3e5",
   "metadata": {},
   "outputs": [],
   "source": [
    "def robust_seasonal_esd_test(ts, max_anom=5, seasonal=False, period=None, alpha=0.05, threshold=1.0):\n",
    "    \"\"\"Robust Seasonal Extreme Studentized Deviate Test\"\"\"\n",
    "    \n",
    "    series = np.copy(ts)\n",
    "    # Implement the seasonal decomposition as an option\n",
    "    if seasonal:\n",
    "        if not period:\n",
    "            raise RuntimeError(\"Period must be set if the time series is seasonal\")\n",
    "        # Remove the seasonal signal and median (based on the paper)\n",
    "        series = series - stl(ts, period=7)[0] - np.median(series)\n",
    "    \n",
    "    N = len(series)\n",
    "    ts_index = np.array(range(N))\n",
    "    \n",
    "    anom_list = []\n",
    "    n_anom = 0\n",
    "    for k in range(1, max_anom+1):\n",
    "        \n",
    "        # Compute the test statistic C_k\n",
    "        C_k = max(abs(series-np.median(series)))/mad(series)\n",
    "        \n",
    "        # Determine the direction or anomaly\n",
    "        direction = (\"positive\" if max(abs(series-np.median(series))) in series-np.median(series) else \"negative\")\n",
    "        \n",
    "        # Compute the critical value\n",
    "        p = 1 - alpha / (2 * (N - k + 1))\n",
    "        t = student_t.ppf(p, N - k - 1)\n",
    "        lambda_k = (N - k) * t / ((N - k - 1+ t**2)*(N - k +1))**0.5\n",
    "\n",
    "\n",
    "        # The score is defined as C_k / lambda_k\n",
    "        # If the score > threshold, then take this data point as an anomaly\n",
    "        score = C_k / lambda_k\n",
    "        if score > threshold:\n",
    "            n_anom = k\n",
    "        else:\n",
    "            break\n",
    "        \n",
    "        max_idx = np.argmax(abs(series-np.median(series)))\n",
    "        \n",
    "        anom_list.append({\n",
    "            \"rank\": k,\n",
    "            \"index\": int(ts_index[max_idx]),\n",
    "            \"value\": float(ts[ts_index[max_idx]]),\n",
    "            \"direction\": direction,\n",
    "            \"score\": round(score, 2)\n",
    "        })\n",
    "            \n",
    "        # Remove the identified value from both time-series and index\n",
    "        series = np.delete(series, max_idx)\n",
    "        ts_index = np.delete(ts_index, max_idx)\n",
    "    return anom_list"
   ]
  },
  {
   "cell_type": "code",
   "execution_count": 78,
   "id": "1bec42a8",
   "metadata": {},
   "outputs": [],
   "source": [
    "def plot_anomaly_on_ts(ts: List[float], anom_index_list: List[int], anom_value_list: List[int]) -> None:\n",
    "    \"\"\"\n",
    "    Plot timeseries chart together with detected anomalies as scatter points\n",
    "    ts:\n",
    "        The values of timeseries\n",
    "    \n",
    "    anom_index_list:\n",
    "        The list of timeseries index for the detected anomalies, for instance, if the 2nd data point\n",
    "        is identified as anomaly, the index will be 1 (since it starts from 0)\n",
    "    \n",
    "    anom_value_list:\n",
    "        The list of values for the detected anomalies\n",
    "    \"\"\"\n",
    "    labels = list(range(len(ts)))\n",
    "    plt.plot(labels, ts)\n",
    "    plt.scatter(anom_index_list, anom_value_list, s=50.0, c='red')\n",
    "    plt.grid()\n",
    "    plt.xlabel('date')\n",
    "    plt.ylabel('# of appearance')\n",
    "    plt.show()\n",
    "\n",
    "def pretty_print(struct):\n",
    "    \"\"\"\n",
    "    struct:\n",
    "        The struct can be anything that is JSON serializable, like dictionary, or list.\n",
    "    \"\"\"\n",
    "    print(json.dumps(struct, indent=2))\n"
   ]
  },
  {
   "cell_type": "code",
   "execution_count": 79,
   "id": "19b95103",
   "metadata": {},
   "outputs": [],
   "source": [
    "def plot_anomalies(timeseries):\n",
    "    \n",
    "    ts = np.array(timeseries)\n",
    "    anom_list = robust_seasonal_esd_test(ts, threshold=1.1)\n",
    "\n",
    "    # Only keep anomalies going up\n",
    "    anom_index = []\n",
    "    anom_value = []\n",
    "\n",
    "    for i in anom_list:\n",
    "        if i['direction'] == 'positive':\n",
    "            anom_index.append(i['index'])\n",
    "            anom_value.append(i['value'])\n",
    "\n",
    "    plot_anomaly_on_ts(ts, anom_index, anom_value)"
   ]
  },
  {
   "cell_type": "code",
   "execution_count": 80,
   "id": "439df168",
   "metadata": {},
   "outputs": [
    {
     "data": {
      "image/png": "[encoded data removed]",
      "text/plain": [
       "<Figure size 432x288 with 1 Axes>"
      ]
     },
     "metadata": {},
     "output_type": "display_data"
    }
   ],
   "source": [
    "plot_anomalies(np.array(trend))"
   ]
  },
  {
   "cell_type": "code",
   "execution_count": 81,
   "id": "8180ad49",
   "metadata": {},
   "outputs": [
    {
     "data": {
      "image/png": "[encoded data removed]",
      "text/plain": [
       "<Figure size 432x288 with 1 Axes>"
      ]
     },
     "metadata": {},
     "output_type": "display_data"
    }
   ],
   "source": [
    "plot_anomalies(np.array(np.array(duration_all_month_new_new)))"
   ]
  },
  {
   "cell_type": "code",
   "execution_count": 82,
   "id": "5fd0cd24",
   "metadata": {},
   "outputs": [
    {
     "data": {
      "text/html": [
       "<div>\n",
       "<style scoped>\n",
       "    .dataframe tbody tr th:only-of-type {\n",
       "        vertical-align: middle;\n",
       "    }\n",
       "\n",
       "    .dataframe tbody tr th {\n",
       "        vertical-align: top;\n",
       "    }\n",
       "\n",
       "    .dataframe thead th {\n",
       "        text-align: right;\n",
       "    }\n",
       "</style>\n",
       "<table border=\"1\" class=\"dataframe\">\n",
       "  <thead>\n",
       "    <tr style=\"text-align: right;\">\n",
       "      <th></th>\n",
       "      <th>show_id</th>\n",
       "      <th>type</th>\n",
       "      <th>title</th>\n",
       "      <th>director</th>\n",
       "      <th>cast</th>\n",
       "      <th>country</th>\n",
       "      <th>date_added</th>\n",
       "      <th>release_year</th>\n",
       "      <th>rating</th>\n",
       "      <th>duration</th>\n",
       "      <th>listed_in</th>\n",
       "      <th>description</th>\n",
       "      <th>month_added</th>\n",
       "      <th>year_added</th>\n",
       "      <th>targeted_age</th>\n",
       "      <th>clean_description</th>\n",
       "    </tr>\n",
       "  </thead>\n",
       "  <tbody>\n",
       "    <tr>\n",
       "      <th>2</th>\n",
       "      <td>s3</td>\n",
       "      <td>TV Show</td>\n",
       "      <td>Ganglands</td>\n",
       "      <td>Julien Leclercq</td>\n",
       "      <td>Sami Bouajila, Tracy Gotoas, Samuel Jouy, Nabi...</td>\n",
       "      <td>United States</td>\n",
       "      <td>2021-09-24</td>\n",
       "      <td>2021</td>\n",
       "      <td>TV-MA</td>\n",
       "      <td>1 Season</td>\n",
       "      <td>Crime TV Shows, International TV Shows, TV Act...</td>\n",
       "      <td>To protect his family from a powerful drug lor...</td>\n",
       "      <td>September</td>\n",
       "      <td>2021</td>\n",
       "      <td>Adults</td>\n",
       "      <td>protect family powerful drug lord skilled thie...</td>\n",
       "    </tr>\n",
       "    <tr>\n",
       "      <th>3</th>\n",
       "      <td>s4</td>\n",
       "      <td>TV Show</td>\n",
       "      <td>Jailbirds New Orleans</td>\n",
       "      <td>NaN</td>\n",
       "      <td>NaN</td>\n",
       "      <td>United States</td>\n",
       "      <td>2021-09-24</td>\n",
       "      <td>2021</td>\n",
       "      <td>TV-MA</td>\n",
       "      <td>1 Season</td>\n",
       "      <td>Docuseries, Reality TV</td>\n",
       "      <td>Feuds, flirtations and toilet talk go down amo...</td>\n",
       "      <td>September</td>\n",
       "      <td>2021</td>\n",
       "      <td>Adults</td>\n",
       "      <td>feud flirtation toilet talk among incarcerated...</td>\n",
       "    </tr>\n",
       "    <tr>\n",
       "      <th>5</th>\n",
       "      <td>s6</td>\n",
       "      <td>TV Show</td>\n",
       "      <td>Midnight Mass</td>\n",
       "      <td>Mike Flanagan</td>\n",
       "      <td>Kate Siegel, Zach Gilford, Hamish Linklater, H...</td>\n",
       "      <td>United States</td>\n",
       "      <td>2021-09-24</td>\n",
       "      <td>2021</td>\n",
       "      <td>TV-MA</td>\n",
       "      <td>1 Season</td>\n",
       "      <td>TV Dramas, TV Horror, TV Mysteries</td>\n",
       "      <td>The arrival of a charismatic young priest brin...</td>\n",
       "      <td>September</td>\n",
       "      <td>2021</td>\n",
       "      <td>Adults</td>\n",
       "      <td>arrival charismatic young priest brings glorio...</td>\n",
       "    </tr>\n",
       "  </tbody>\n",
       "</table>\n",
       "</div>"
      ],
      "text/plain": [
       "  show_id     type                  title         director  \\\n",
       "2      s3  TV Show              Ganglands  Julien Leclercq   \n",
       "3      s4  TV Show  Jailbirds New Orleans              NaN   \n",
       "5      s6  TV Show          Midnight Mass    Mike Flanagan   \n",
       "\n",
       "                                                cast        country  \\\n",
       "2  Sami Bouajila, Tracy Gotoas, Samuel Jouy, Nabi...  United States   \n",
       "3                                                NaN  United States   \n",
       "5  Kate Siegel, Zach Gilford, Hamish Linklater, H...  United States   \n",
       "\n",
       "  date_added  release_year rating  duration  \\\n",
       "2 2021-09-24          2021  TV-MA  1 Season   \n",
       "3 2021-09-24          2021  TV-MA  1 Season   \n",
       "5 2021-09-24          2021  TV-MA  1 Season   \n",
       "\n",
       "                                           listed_in  \\\n",
       "2  Crime TV Shows, International TV Shows, TV Act...   \n",
       "3                             Docuseries, Reality TV   \n",
       "5                 TV Dramas, TV Horror, TV Mysteries   \n",
       "\n",
       "                                         description month_added  year_added  \\\n",
       "2  To protect his family from a powerful drug lor...   September        2021   \n",
       "3  Feuds, flirtations and toilet talk go down amo...   September        2021   \n",
       "5  The arrival of a charismatic young priest brin...   September        2021   \n",
       "\n",
       "  targeted_age                                  clean_description  \n",
       "2       Adults  protect family powerful drug lord skilled thie...  \n",
       "3       Adults  feud flirtation toilet talk among incarcerated...  \n",
       "5       Adults  arrival charismatic young priest brings glorio...  "
      ]
     },
     "execution_count": 82,
     "metadata": {},
     "output_type": "execute_result"
    }
   ],
   "source": [
    "df_us_alltime_tvshows = df_us_alltime[df_us_alltime['type'] == 'TV Show']\n",
    "df_us_alltime_tvshows.head(3)"
   ]
  },
  {
   "cell_type": "code",
   "execution_count": 83,
   "id": "ba90271a",
   "metadata": {},
   "outputs": [],
   "source": [
    "df_us_alltime_tvshows['duration'] = df_us_alltime_tvshows['duration'].apply(\n",
    "    lambda x: int(x.split(' ')[0]))"
   ]
  },
  {
   "cell_type": "code",
   "execution_count": 84,
   "id": "ffe5987b",
   "metadata": {},
   "outputs": [
    {
     "data": {
      "text/html": [
       "<div>\n",
       "<style scoped>\n",
       "    .dataframe tbody tr th:only-of-type {\n",
       "        vertical-align: middle;\n",
       "    }\n",
       "\n",
       "    .dataframe tbody tr th {\n",
       "        vertical-align: top;\n",
       "    }\n",
       "\n",
       "    .dataframe thead th {\n",
       "        text-align: right;\n",
       "    }\n",
       "</style>\n",
       "<table border=\"1\" class=\"dataframe\">\n",
       "  <thead>\n",
       "    <tr style=\"text-align: right;\">\n",
       "      <th></th>\n",
       "      <th>show_id</th>\n",
       "      <th>type</th>\n",
       "      <th>title</th>\n",
       "      <th>director</th>\n",
       "      <th>cast</th>\n",
       "      <th>country</th>\n",
       "      <th>date_added</th>\n",
       "      <th>release_year</th>\n",
       "      <th>rating</th>\n",
       "      <th>duration</th>\n",
       "      <th>listed_in</th>\n",
       "      <th>description</th>\n",
       "      <th>month_added</th>\n",
       "      <th>year_added</th>\n",
       "      <th>targeted_age</th>\n",
       "      <th>clean_description</th>\n",
       "    </tr>\n",
       "  </thead>\n",
       "  <tbody>\n",
       "    <tr>\n",
       "      <th>2</th>\n",
       "      <td>s3</td>\n",
       "      <td>TV Show</td>\n",
       "      <td>Ganglands</td>\n",
       "      <td>Julien Leclercq</td>\n",
       "      <td>Sami Bouajila, Tracy Gotoas, Samuel Jouy, Nabi...</td>\n",
       "      <td>United States</td>\n",
       "      <td>2021-09-24</td>\n",
       "      <td>2021</td>\n",
       "      <td>TV-MA</td>\n",
       "      <td>1</td>\n",
       "      <td>Crime TV Shows, International TV Shows, TV Act...</td>\n",
       "      <td>To protect his family from a powerful drug lor...</td>\n",
       "      <td>September</td>\n",
       "      <td>2021</td>\n",
       "      <td>Adults</td>\n",
       "      <td>protect family powerful drug lord skilled thie...</td>\n",
       "    </tr>\n",
       "    <tr>\n",
       "      <th>3</th>\n",
       "      <td>s4</td>\n",
       "      <td>TV Show</td>\n",
       "      <td>Jailbirds New Orleans</td>\n",
       "      <td>NaN</td>\n",
       "      <td>NaN</td>\n",
       "      <td>United States</td>\n",
       "      <td>2021-09-24</td>\n",
       "      <td>2021</td>\n",
       "      <td>TV-MA</td>\n",
       "      <td>1</td>\n",
       "      <td>Docuseries, Reality TV</td>\n",
       "      <td>Feuds, flirtations and toilet talk go down amo...</td>\n",
       "      <td>September</td>\n",
       "      <td>2021</td>\n",
       "      <td>Adults</td>\n",
       "      <td>feud flirtation toilet talk among incarcerated...</td>\n",
       "    </tr>\n",
       "    <tr>\n",
       "      <th>5</th>\n",
       "      <td>s6</td>\n",
       "      <td>TV Show</td>\n",
       "      <td>Midnight Mass</td>\n",
       "      <td>Mike Flanagan</td>\n",
       "      <td>Kate Siegel, Zach Gilford, Hamish Linklater, H...</td>\n",
       "      <td>United States</td>\n",
       "      <td>2021-09-24</td>\n",
       "      <td>2021</td>\n",
       "      <td>TV-MA</td>\n",
       "      <td>1</td>\n",
       "      <td>TV Dramas, TV Horror, TV Mysteries</td>\n",
       "      <td>The arrival of a charismatic young priest brin...</td>\n",
       "      <td>September</td>\n",
       "      <td>2021</td>\n",
       "      <td>Adults</td>\n",
       "      <td>arrival charismatic young priest brings glorio...</td>\n",
       "    </tr>\n",
       "  </tbody>\n",
       "</table>\n",
       "</div>"
      ],
      "text/plain": [
       "  show_id     type                  title         director  \\\n",
       "2      s3  TV Show              Ganglands  Julien Leclercq   \n",
       "3      s4  TV Show  Jailbirds New Orleans              NaN   \n",
       "5      s6  TV Show          Midnight Mass    Mike Flanagan   \n",
       "\n",
       "                                                cast        country  \\\n",
       "2  Sami Bouajila, Tracy Gotoas, Samuel Jouy, Nabi...  United States   \n",
       "3                                                NaN  United States   \n",
       "5  Kate Siegel, Zach Gilford, Hamish Linklater, H...  United States   \n",
       "\n",
       "  date_added  release_year rating  duration  \\\n",
       "2 2021-09-24          2021  TV-MA         1   \n",
       "3 2021-09-24          2021  TV-MA         1   \n",
       "5 2021-09-24          2021  TV-MA         1   \n",
       "\n",
       "                                           listed_in  \\\n",
       "2  Crime TV Shows, International TV Shows, TV Act...   \n",
       "3                             Docuseries, Reality TV   \n",
       "5                 TV Dramas, TV Horror, TV Mysteries   \n",
       "\n",
       "                                         description month_added  year_added  \\\n",
       "2  To protect his family from a powerful drug lor...   September        2021   \n",
       "3  Feuds, flirtations and toilet talk go down amo...   September        2021   \n",
       "5  The arrival of a charismatic young priest brin...   September        2021   \n",
       "\n",
       "  targeted_age                                  clean_description  \n",
       "2       Adults  protect family powerful drug lord skilled thie...  \n",
       "3       Adults  feud flirtation toilet talk among incarcerated...  \n",
       "5       Adults  arrival charismatic young priest brings glorio...  "
      ]
     },
     "execution_count": 84,
     "metadata": {},
     "output_type": "execute_result"
    }
   ],
   "source": [
    "df_us_alltime_tvshows.head(3)"
   ]
  },
  {
   "cell_type": "code",
   "execution_count": 85,
   "id": "92d64ba3",
   "metadata": {},
   "outputs": [
    {
     "data": {
      "text/plain": [
       "[nan,\n",
       " 1.0,\n",
       " nan,\n",
       " nan,\n",
       " nan,\n",
       " nan,\n",
       " nan,\n",
       " nan,\n",
       " nan,\n",
       " nan,\n",
       " nan,\n",
       " nan,\n",
       " nan,\n",
       " 1.0,\n",
       " nan,\n",
       " nan,\n",
       " nan,\n",
       " nan,\n",
       " 5.0,\n",
       " 3.5,\n",
       " nan,\n",
       " nan,\n",
       " nan,\n",
       " 3.0,\n",
       " nan,\n",
       " 8.0,\n",
       " nan,\n",
       " nan,\n",
       " nan,\n",
       " nan,\n",
       " nan,\n",
       " 3.0,\n",
       " 5.0,\n",
       " nan,\n",
       " 4.0,\n",
       " 7.0,\n",
       " 1.0,\n",
       " nan,\n",
       " nan,\n",
       " 1.0,\n",
       " nan,\n",
       " 1.67,\n",
       " 1.5,\n",
       " 4.0,\n",
       " 1.57,\n",
       " 1.6,\n",
       " 1.0,\n",
       " 1.0,\n",
       " 1.0,\n",
       " 1.0,\n",
       " 2.0,\n",
       " 1.0,\n",
       " 1.29,\n",
       " 2.0,\n",
       " 2.0,\n",
       " 4.0,\n",
       " 1.11,\n",
       " 1.58,\n",
       " 2.17,\n",
       " 2.56,\n",
       " 2.75,\n",
       " 3.45,\n",
       " 1.55,\n",
       " 2.18,\n",
       " 2.41,\n",
       " 1.67,\n",
       " 3.5,\n",
       " 2.42,\n",
       " 1.82,\n",
       " 1.67,\n",
       " 2.29,\n",
       " 1.53,\n",
       " 3.07,\n",
       " 1.71,\n",
       " 1.44,\n",
       " 1.23,\n",
       " 1.61,\n",
       " 2.15,\n",
       " 2.43,\n",
       " 1.7,\n",
       " 2.38,\n",
       " 1.14,\n",
       " 2.0,\n",
       " 1.82,\n",
       " 1.9,\n",
       " 1.5,\n",
       " 1.88,\n",
       " 1.88,\n",
       " 1.52,\n",
       " 2.0,\n",
       " 1.62,\n",
       " 1.82,\n",
       " 2.25,\n",
       " 3.33,\n",
       " 1.85,\n",
       " 1.67,\n",
       " 2.31,\n",
       " 2.37,\n",
       " 2.09,\n",
       " 1.92,\n",
       " 1.81,\n",
       " 1.89,\n",
       " 1.64,\n",
       " 1.78,\n",
       " 1.65,\n",
       " 2.45,\n",
       " 2.0,\n",
       " nan,\n",
       " nan,\n",
       " nan]"
      ]
     },
     "execution_count": 85,
     "metadata": {},
     "output_type": "execute_result"
    }
   ],
   "source": [
    "duration_all_month = []\n",
    "for i in sorted(df_us_alltime_tvshows['year_added'].unique()):\n",
    "    df_us_alltime_tvshows_this_year = df_us_alltime_tvshows[df_us_alltime_tvshows['year_added'] == i]\n",
    "    for t in ['January','February','March','April','May','June','July','August','October','November','December']:\n",
    "        df_us_alltime_tvshows_this_year_this_month = df_us_alltime_tvshows_this_year[df_us_alltime_tvshows_this_year['month_added'] == t]\n",
    "        duration_all_month.append(round(np.mean(df_us_alltime_tvshows_this_year_this_month['duration']),2))\n",
    "duration_all_month"
   ]
  },
  {
   "cell_type": "code",
   "execution_count": 86,
   "id": "e0b44325",
   "metadata": {},
   "outputs": [
    {
     "data": {
      "text/plain": [
       "['2.1999999999999997',\n",
       " '1.0',\n",
       " '2.1999999999999997',\n",
       " '2.1999999999999997',\n",
       " '2.1999999999999997',\n",
       " '2.1999999999999997',\n",
       " '2.1999999999999997',\n",
       " '2.1999999999999997',\n",
       " '2.1999999999999997',\n",
       " '2.1999999999999997',\n",
       " '2.1999999999999997',\n",
       " '2.1999999999999997',\n",
       " '2.1999999999999997',\n",
       " '1.0',\n",
       " '2.1999999999999997',\n",
       " '2.1999999999999997',\n",
       " '2.1999999999999997',\n",
       " '2.1999999999999997',\n",
       " '5.0',\n",
       " '3.5',\n",
       " '2.1999999999999997',\n",
       " '2.1999999999999997',\n",
       " '2.1999999999999997',\n",
       " '3.0',\n",
       " '2.1999999999999997',\n",
       " '8.0',\n",
       " '2.1999999999999997',\n",
       " '2.1999999999999997',\n",
       " '2.1999999999999997',\n",
       " '2.1999999999999997',\n",
       " '2.1999999999999997',\n",
       " '3.0',\n",
       " '5.0',\n",
       " '2.1999999999999997',\n",
       " '4.0',\n",
       " '7.0',\n",
       " '1.0',\n",
       " '2.1999999999999997',\n",
       " '2.1999999999999997',\n",
       " '1.0',\n",
       " '2.1999999999999997',\n",
       " '1.67',\n",
       " '1.5',\n",
       " '4.0',\n",
       " '1.57',\n",
       " '1.6',\n",
       " '1.0',\n",
       " '1.0',\n",
       " '1.0',\n",
       " '1.0',\n",
       " '2.0',\n",
       " '1.0',\n",
       " '1.29',\n",
       " '2.0',\n",
       " '2.0',\n",
       " '4.0',\n",
       " '1.11',\n",
       " '1.58',\n",
       " '2.17',\n",
       " '2.56',\n",
       " '2.75',\n",
       " '3.45',\n",
       " '1.55',\n",
       " '2.18',\n",
       " '2.41',\n",
       " '1.67',\n",
       " '3.5',\n",
       " '2.42',\n",
       " '1.82',\n",
       " '1.67',\n",
       " '2.29',\n",
       " '1.53',\n",
       " '3.07',\n",
       " '1.71',\n",
       " '1.44',\n",
       " '1.23',\n",
       " '1.61',\n",
       " '2.15',\n",
       " '2.43',\n",
       " '1.7',\n",
       " '2.38',\n",
       " '1.14',\n",
       " '2.0',\n",
       " '1.82',\n",
       " '1.9',\n",
       " '1.5',\n",
       " '1.88',\n",
       " '1.88',\n",
       " '1.52',\n",
       " '2.0',\n",
       " '1.62',\n",
       " '1.82',\n",
       " '2.25',\n",
       " '3.33',\n",
       " '1.85',\n",
       " '1.67',\n",
       " '2.31',\n",
       " '2.37',\n",
       " '2.09',\n",
       " '1.92',\n",
       " '1.81',\n",
       " '1.89',\n",
       " '1.64',\n",
       " '1.78',\n",
       " '1.65',\n",
       " '2.45',\n",
       " '2.0',\n",
       " '2.1999999999999997',\n",
       " '2.1999999999999997',\n",
       " '2.1999999999999997']"
      ]
     },
     "execution_count": 86,
     "metadata": {},
     "output_type": "execute_result"
    }
   ],
   "source": [
    "temp_str = ','.join(str(x) for x in duration_all_month)\n",
    "temp_str = temp_str.replace('nan', str(np.nanmean(duration_all_month)))\n",
    "duration_all_month = [x for x in temp_str.split(',')]\n",
    "duration_all_month_new = []\n",
    "for i in duration_all_month:\n",
    "    duration_all_month_new.append(i)\n",
    "duration_all_month_new"
   ]
  },
  {
   "cell_type": "code",
   "execution_count": 87,
   "id": "6f9f9bd2",
   "metadata": {},
   "outputs": [],
   "source": [
    "duration_all_month_new_new = []\n",
    "for i in duration_all_month_new:\n",
    "    duration_all_month_new_new.append(float(i))"
   ]
  },
  {
   "cell_type": "code",
   "execution_count": 88,
   "id": "be8b62a9",
   "metadata": {},
   "outputs": [],
   "source": [
    "timeframe = [i for i in range(len(duration_all_month_new_new))]"
   ]
  },
  {
   "cell_type": "code",
   "execution_count": 89,
   "id": "d7490a4a",
   "metadata": {},
   "outputs": [
    {
     "data": {
      "text/plain": [
       "([], [])"
      ]
     },
     "execution_count": 89,
     "metadata": {},
     "output_type": "execute_result"
    },
    {
     "data": {
      "image/png": "[encoded data removed]",
      "text/plain": [
       "<Figure size 432x288 with 1 Axes>"
      ]
     },
     "metadata": {},
     "output_type": "display_data"
    }
   ],
   "source": [
    "plt.plot(timeframe, duration_all_month_new_new)\n",
    "plt.xticks([])"
   ]
  },
  {
   "cell_type": "code",
   "execution_count": 90,
   "id": "da5593d4",
   "metadata": {},
   "outputs": [],
   "source": [
    "seasonal, trend, resid = stl(np.array(duration_all_month_new_new), period=6)"
   ]
  },
  {
   "cell_type": "code",
   "execution_count": 91,
   "id": "5f1b5778",
   "metadata": {},
   "outputs": [
    {
     "name": "stdout",
     "output_type": "stream",
     "text": [
      "Original Timeseries\n"
     ]
    },
    {
     "data": {
      "image/png": "[encoded data removed]",
      "text/plain": [
       "<Figure size 432x288 with 1 Axes>"
      ]
     },
     "metadata": {},
     "output_type": "display_data"
    },
    {
     "name": "stdout",
     "output_type": "stream",
     "text": [
      "Seasonal Component\n"
     ]
    },
    {
     "data": {
      "image/png": "[encoded data removed]",
      "text/plain": [
       "<Figure size 432x288 with 1 Axes>"
      ]
     },
     "metadata": {},
     "output_type": "display_data"
    },
    {
     "name": "stdout",
     "output_type": "stream",
     "text": [
      "Trend Component\n"
     ]
    },
    {
     "data": {
      "image/png": "[encoded data removed]",
      "text/plain": [
       "<Figure size 432x288 with 1 Axes>"
      ]
     },
     "metadata": {},
     "output_type": "display_data"
    },
    {
     "name": "stdout",
     "output_type": "stream",
     "text": [
      "Residual Component\n"
     ]
    },
    {
     "data": {
      "image/png": "[encoded data removed]",
      "text/plain": [
       "<Figure size 432x288 with 1 Axes>"
      ]
     },
     "metadata": {},
     "output_type": "display_data"
    }
   ],
   "source": [
    "print('Original Timeseries')\n",
    "plot_ts(duration_all_month_new_new)\n",
    "print('Seasonal Component')\n",
    "plot_ts(seasonal)\n",
    "print('Trend Component')\n",
    "plot_ts(trend)\n",
    "print('Residual Component')\n",
    "plot_ts(resid)"
   ]
  },
  {
   "cell_type": "code",
   "execution_count": 92,
   "id": "b9665dfc",
   "metadata": {},
   "outputs": [
    {
     "data": {
      "image/png": "[encoded data removed]",
      "text/plain": [
       "<Figure size 432x288 with 1 Axes>"
      ]
     },
     "metadata": {},
     "output_type": "display_data"
    }
   ],
   "source": [
    "plot_anomalies(np.array(np.array(duration_all_month_new_new)))"
   ]
  },
  {
   "cell_type": "markdown",
   "id": "5cd7486f",
   "metadata": {},
   "source": [
    "## 4. Genres Trends"
   ]
  },
  {
   "cell_type": "code",
   "execution_count": 93,
   "id": "b2fd22bf",
   "metadata": {},
   "outputs": [
    {
     "data": {
      "text/html": [
       "<div>\n",
       "<style scoped>\n",
       "    .dataframe tbody tr th:only-of-type {\n",
       "        vertical-align: middle;\n",
       "    }\n",
       "\n",
       "    .dataframe tbody tr th {\n",
       "        vertical-align: top;\n",
       "    }\n",
       "\n",
       "    .dataframe thead th {\n",
       "        text-align: right;\n",
       "    }\n",
       "</style>\n",
       "<table border=\"1\" class=\"dataframe\">\n",
       "  <thead>\n",
       "    <tr style=\"text-align: right;\">\n",
       "      <th></th>\n",
       "      <th>show_id</th>\n",
       "      <th>type</th>\n",
       "      <th>title</th>\n",
       "      <th>director</th>\n",
       "      <th>cast</th>\n",
       "      <th>country</th>\n",
       "      <th>date_added</th>\n",
       "      <th>release_year</th>\n",
       "      <th>rating</th>\n",
       "      <th>duration</th>\n",
       "      <th>listed_in</th>\n",
       "      <th>description</th>\n",
       "      <th>month_added</th>\n",
       "      <th>year_added</th>\n",
       "      <th>targeted_age</th>\n",
       "      <th>clean_description</th>\n",
       "    </tr>\n",
       "  </thead>\n",
       "  <tbody>\n",
       "    <tr>\n",
       "      <th>0</th>\n",
       "      <td>s1</td>\n",
       "      <td>Movie</td>\n",
       "      <td>Dick Johnson Is Dead</td>\n",
       "      <td>Kirsten Johnson</td>\n",
       "      <td>NaN</td>\n",
       "      <td>United States</td>\n",
       "      <td>2021-09-25</td>\n",
       "      <td>2020</td>\n",
       "      <td>PG-13</td>\n",
       "      <td>90 min</td>\n",
       "      <td>Documentaries</td>\n",
       "      <td>As her father nears the end of his life, filmm...</td>\n",
       "      <td>September</td>\n",
       "      <td>2021</td>\n",
       "      <td>Teens</td>\n",
       "      <td>father nears end life filmmaker kirsten johnso...</td>\n",
       "    </tr>\n",
       "    <tr>\n",
       "      <th>2</th>\n",
       "      <td>s3</td>\n",
       "      <td>TV Show</td>\n",
       "      <td>Ganglands</td>\n",
       "      <td>Julien Leclercq</td>\n",
       "      <td>Sami Bouajila, Tracy Gotoas, Samuel Jouy, Nabi...</td>\n",
       "      <td>United States</td>\n",
       "      <td>2021-09-24</td>\n",
       "      <td>2021</td>\n",
       "      <td>TV-MA</td>\n",
       "      <td>1 Season</td>\n",
       "      <td>Crime TV Shows, International TV Shows, TV Act...</td>\n",
       "      <td>To protect his family from a powerful drug lor...</td>\n",
       "      <td>September</td>\n",
       "      <td>2021</td>\n",
       "      <td>Adults</td>\n",
       "      <td>protect family powerful drug lord skilled thie...</td>\n",
       "    </tr>\n",
       "    <tr>\n",
       "      <th>3</th>\n",
       "      <td>s4</td>\n",
       "      <td>TV Show</td>\n",
       "      <td>Jailbirds New Orleans</td>\n",
       "      <td>NaN</td>\n",
       "      <td>NaN</td>\n",
       "      <td>United States</td>\n",
       "      <td>2021-09-24</td>\n",
       "      <td>2021</td>\n",
       "      <td>TV-MA</td>\n",
       "      <td>1 Season</td>\n",
       "      <td>Docuseries, Reality TV</td>\n",
       "      <td>Feuds, flirtations and toilet talk go down amo...</td>\n",
       "      <td>September</td>\n",
       "      <td>2021</td>\n",
       "      <td>Adults</td>\n",
       "      <td>feud flirtation toilet talk among incarcerated...</td>\n",
       "    </tr>\n",
       "  </tbody>\n",
       "</table>\n",
       "</div>"
      ],
      "text/plain": [
       "  show_id     type                  title         director  \\\n",
       "0      s1    Movie   Dick Johnson Is Dead  Kirsten Johnson   \n",
       "2      s3  TV Show              Ganglands  Julien Leclercq   \n",
       "3      s4  TV Show  Jailbirds New Orleans              NaN   \n",
       "\n",
       "                                                cast        country  \\\n",
       "0                                                NaN  United States   \n",
       "2  Sami Bouajila, Tracy Gotoas, Samuel Jouy, Nabi...  United States   \n",
       "3                                                NaN  United States   \n",
       "\n",
       "  date_added  release_year rating  duration  \\\n",
       "0 2021-09-25          2020  PG-13    90 min   \n",
       "2 2021-09-24          2021  TV-MA  1 Season   \n",
       "3 2021-09-24          2021  TV-MA  1 Season   \n",
       "\n",
       "                                           listed_in  \\\n",
       "0                                      Documentaries   \n",
       "2  Crime TV Shows, International TV Shows, TV Act...   \n",
       "3                             Docuseries, Reality TV   \n",
       "\n",
       "                                         description month_added  year_added  \\\n",
       "0  As her father nears the end of his life, filmm...   September        2021   \n",
       "2  To protect his family from a powerful drug lor...   September        2021   \n",
       "3  Feuds, flirtations and toilet talk go down amo...   September        2021   \n",
       "\n",
       "  targeted_age                                  clean_description  \n",
       "0        Teens  father nears end life filmmaker kirsten johnso...  \n",
       "2       Adults  protect family powerful drug lord skilled thie...  \n",
       "3       Adults  feud flirtation toilet talk among incarcerated...  "
      ]
     },
     "execution_count": 93,
     "metadata": {},
     "output_type": "execute_result"
    }
   ],
   "source": [
    "df_us_alltime.head(3)"
   ]
  },
  {
   "cell_type": "code",
   "execution_count": 94,
   "id": "7427044e",
   "metadata": {},
   "outputs": [
    {
     "data": {
      "text/plain": [
       "Dramas           945\n",
       "Comedies         774\n",
       "Documentaries    587\n",
       "dtype: int64"
      ]
     },
     "execution_count": 94,
     "metadata": {},
     "output_type": "execute_result"
    }
   ],
   "source": [
    "alltime_tokens = []\n",
    "for i in df_us_alltime['listed_in']:\n",
    "    for t in i.split(','):\n",
    "        alltime_tokens.append(t.strip())\n",
    "alltime_genres = pd.Series(dict(sorted(Counter(alltime_tokens).items(),key = lambda x:x[1], reverse = True)))\n",
    "alltime_genres.head(3)"
   ]
  },
  {
   "cell_type": "code",
   "execution_count": 95,
   "id": "b3a9dbfe",
   "metadata": {},
   "outputs": [
    {
     "data": {
      "text/plain": [
       "Dramas                      661\n",
       "Comedies                    588\n",
       "Action & Adventure          360\n",
       "Children & Family Movies    352\n",
       "Documentaries               277\n",
       "International Movies        273\n",
       "Thrillers                   225\n",
       "TV Comedies                 224\n",
       "Independent Movies          221\n",
       "TV Dramas                   207\n",
       "dtype: int64"
      ]
     },
     "execution_count": 95,
     "metadata": {},
     "output_type": "execute_result"
    }
   ],
   "source": [
    "recent_tokens = []\n",
    "for i in df_us_recent_three_years['listed_in']:\n",
    "    for t in i.split(','):\n",
    "        recent_tokens.append(t.strip())\n",
    "recent_tokens = pd.Series(dict(sorted(Counter(recent_tokens).items(),key = lambda x:x[1], reverse = True)))\n",
    "recent_tokens.head(10)"
   ]
  },
  {
   "cell_type": "code",
   "execution_count": 96,
   "id": "e3677c9d",
   "metadata": {},
   "outputs": [
    {
     "data": {
      "text/plain": [
       "Dramas                          661\n",
       "Comedies                        588\n",
       "Action & Adventure              360\n",
       "Children & Family Movies        352\n",
       "Documentaries                   277\n",
       "International Movies            273\n",
       "Thrillers                       225\n",
       "TV Comedies                     224\n",
       "Independent Movies              221\n",
       "TV Dramas                       207\n",
       "Romantic Movies                 203\n",
       "International TV Shows          191\n",
       "Kids' TV                        182\n",
       "Docuseries                      172\n",
       "Horror Movies                   152\n",
       "Reality TV                      133\n",
       "Sci-Fi & Fantasy                131\n",
       "Music & Musicals                126\n",
       "Crime TV Shows                  124\n",
       "Stand-Up Comedy                  92\n",
       "Sports Movies                    85\n",
       "TV Action & Adventure            82\n",
       "Romantic TV Shows                82\n",
       "Classic Movies                   66\n",
       "TV Sci-Fi & Fantasy              48\n",
       "Cult Movies                      44\n",
       "LGBTQ Movies                     43\n",
       "Science & Nature TV              41\n",
       "Spanish-Language TV Shows        35\n",
       "Anime Series                     35\n",
       "TV Mysteries                     33\n",
       "TV Horror                        30\n",
       "Teen TV Shows                    27\n",
       "Faith & Spirituality             26\n",
       "TV Thrillers                     24\n",
       "British TV Shows                 19\n",
       "Movies                           18\n",
       "Stand-Up Comedy & Talk Shows     16\n",
       "Anime Features                   13\n",
       "Korean TV Shows                  12\n",
       "TV Shows                          6\n",
       "Classic & Cult TV                 6\n",
       "dtype: int64"
      ]
     },
     "execution_count": 96,
     "metadata": {},
     "output_type": "execute_result"
    }
   ],
   "source": [
    "recent_tokens"
   ]
  },
  {
   "cell_type": "code",
   "execution_count": 97,
   "id": "4fa181f1",
   "metadata": {},
   "outputs": [
    {
     "data": {
      "text/plain": [
       "5685"
      ]
     },
     "execution_count": 97,
     "metadata": {},
     "output_type": "execute_result"
    }
   ],
   "source": [
    "total = 0\n",
    "for i in recent_tokens:\n",
    "    total+=i\n",
    "total"
   ]
  },
  {
   "cell_type": "code",
   "execution_count": 98,
   "id": "15d92055",
   "metadata": {},
   "outputs": [],
   "source": [
    "genre_by_year = defaultdict(dict)"
   ]
  },
  {
   "cell_type": "code",
   "execution_count": 99,
   "id": "a0633509",
   "metadata": {},
   "outputs": [],
   "source": [
    "for i in sorted(df_us_alltime['year_added'].unique()):\n",
    "    df_us_this_year = df_us_alltime[df_us_alltime['year_added'] == i]\n",
    "    this_year_token = []\n",
    "    for k in df_us_this_year['listed_in']:\n",
    "        for t in k.split(','):\n",
    "            this_year_token.append(t.strip())\n",
    "            token_count_sum = len(this_year_token)\n",
    "            token_counts = pd.Series(dict(sorted(Counter(this_year_token).items(),key = lambda x:x[1], reverse = True)))\n",
    "            for w in set(this_year_token):\n",
    "                this_token_count = token_counts[w]\n",
    "                this_token_percent = round(this_token_count/token_count_sum,2)\n",
    "                genre_by_year[i][w] = this_token_percent * (1+np.log(this_token_count))"
   ]
  },
  {
   "cell_type": "code",
   "execution_count": 100,
   "id": "27456d8f",
   "metadata": {},
   "outputs": [
    {
     "data": {
      "text/plain": [
       "defaultdict(dict,\n",
       "            {2008: {'Dramas': 0.25,\n",
       "              'Independent Movies': 0.25,\n",
       "              'Thrillers': 0.25,\n",
       "              'Stand-Up Comedy & Talk Shows': 0.25},\n",
       "             2009: {'Horror Movies': 1.0},\n",
       "             2010: {'Cult Movies': 0.5, 'Horror Movies': 0.5},\n",
       "             2011: {'Dramas': 2.47428372134948,\n",
       "              'Sports Movies': 0.20317766166719345,\n",
       "              'Thrillers': 0.06,\n",
       "              'Children & Family Movies': 0.06,\n",
       "              'Faith & Spirituality': 0.06},\n",
       "             2012: {'Documentaries': 0.25,\n",
       "              'Comedies': 0.8465735902799727,\n",
       "              'Children & Family Movies': 0.25},\n",
       "             2013: {'Children & Family Movies': 0.1523832462503951,\n",
       "              'Comedies': 0.05,\n",
       "              'Music & Musicals': 0.05,\n",
       "              'Documentaries': 0.05,\n",
       "              'Sports Movies': 0.05,\n",
       "              'Stand-Up Comedy': 0.2938057204135354,\n",
       "              'TV Dramas': 0.4295329850015803,\n",
       "              'TV Mysteries': 0.05,\n",
       "              'TV Sci-Fi & Fantasy': 0.05,\n",
       "              'Crime TV Shows': 0.1523832462503951,\n",
       "              'TV Thrillers': 0.05,\n",
       "              'Teen TV Shows': 0.05,\n",
       "              'International TV Shows': 0.05,\n",
       "              'Docuseries': 0.05,\n",
       "              'Stand-Up Comedy & Talk Shows': 0.05},\n",
       "             2014: {'Movies': 0.10158883083359672,\n",
       "              'Stand-Up Comedy': 0.2863553233343869,\n",
       "              'Crime TV Shows': 0.03,\n",
       "              'TV Comedies': 0.18887510598012988,\n",
       "              'TV Dramas': 0.18887510598012988,\n",
       "              'Documentaries': 0.6186411313016158,\n",
       "              'Sports Movies': 0.03,\n",
       "              'International Movies': 0.03,\n",
       "              'Children & Family Movies': 0.2863553233343869,\n",
       "              'Comedies': 0.10158883083359672,\n",
       "              'Sci-Fi & Fantasy': 0.10158883083359672,\n",
       "              'Action & Adventure': 0.03,\n",
       "              'Classic & Cult TV': 0.03,\n",
       "              \"Kids' TV\": 0.03},\n",
       "             2015: {'Movies': 0.01,\n",
       "              'Stand-Up Comedy': 0.42779392289538437,\n",
       "              'Action & Adventure': 0.01,\n",
       "              'Comedies': 0.2557779661868976,\n",
       "              'Music & Musicals': 0.13047189562170503,\n",
       "              'Dramas': 0.16750556815368328,\n",
       "              'LGBTQ Movies': 0.01,\n",
       "              'TV Comedies': 0.13047189562170503,\n",
       "              'Independent Movies': 0.20621371043387196,\n",
       "              'Children & Family Movies': 0.20621371043387196,\n",
       "              'TV Horror': 0.03386294361119891,\n",
       "              'TV Mysteries': 0.03386294361119891,\n",
       "              'TV Thrillers': 0.01,\n",
       "              'Sci-Fi & Fantasy': 0.03386294361119891,\n",
       "              'Documentaries': 0.3397895272798371,\n",
       "              'International Movies': 0.03386294361119891,\n",
       "              \"Kids' TV\": 0.0629583686600433,\n",
       "              'Romantic Movies': 0.01,\n",
       "              'Horror Movies': 0.03386294361119891,\n",
       "              'Thrillers': 0.01,\n",
       "              'Crime TV Shows': 0.01,\n",
       "              'TV Dramas': 0.20621371043387196,\n",
       "              'Classic & Cult TV': 0.01,\n",
       "              'British TV Shows': 0.0629583686600433,\n",
       "              'Docuseries': 0.0629583686600433,\n",
       "              'Science & Nature TV': 0.0629583686600433,\n",
       "              'Sports Movies': 0.0629583686600433,\n",
       "              'TV Action & Adventure': 0.01,\n",
       "              'Romantic TV Shows': 0.01,\n",
       "              'TV Sci-Fi & Fantasy': 0.01},\n",
       "             2016: {'Reality TV': 0.0209861228866811,\n",
       "              'Teen TV Shows': 0.016931471805599455,\n",
       "              'Music & Musicals': 0.10193685818395111,\n",
       "              'Stand-Up Comedy': 0.4019162312519754,\n",
       "              'Crime TV Shows': 0.0558351893845611,\n",
       "              'TV Dramas': 0.14259797429846147,\n",
       "              'TV Mysteries': 0.0209861228866811,\n",
       "              'Dramas': 0.2953213077407741,\n",
       "              'Documentaries': 0.5129917810742611,\n",
       "              'Children & Family Movies': 0.19166066720281083,\n",
       "              'Action & Adventure': 0.05891820298110627,\n",
       "              'Sci-Fi & Fantasy': 0.026094379124341007,\n",
       "              'Docuseries': 0.10193685818395111,\n",
       "              'International TV Shows': 0.026094379124341007,\n",
       "              'Comedies': 0.29806675766150376,\n",
       "              'Independent Movies': 0.19451858789480825,\n",
       "              'Romantic Movies': 0.0209861228866811,\n",
       "              'Sports Movies': 0.06158883083359672,\n",
       "              'Classic & Cult TV': 0.0,\n",
       "              'TV Action & Adventure': 0.02386294361119891,\n",
       "              'TV Horror': 0.016931471805599455,\n",
       "              'TV Comedies': 0.10454719949364001,\n",
       "              'Thrillers': 0.10193685818395111,\n",
       "              'Movies': 0.10193685818395111,\n",
       "              'Horror Movies': 0.0558351893845611,\n",
       "              'International Movies': 0.09591673732008658,\n",
       "              'TV Thrillers': 0.0209861228866811,\n",
       "              \"Kids' TV\": 0.45835189384561104,\n",
       "              'Science & Nature TV': 0.0209861228866811,\n",
       "              'British TV Shows': 0.0209861228866811,\n",
       "              'Anime Series': 0.0209861228866811,\n",
       "              'Cult Movies': 0.0,\n",
       "              'LGBTQ Movies': 0.0,\n",
       "              'TV Shows': 0.016931471805599455,\n",
       "              'Stand-Up Comedy & Talk Shows': 0.0,\n",
       "              'Faith & Spirituality': 0.0,\n",
       "              'Romantic TV Shows': 0.016931471805599455,\n",
       "              'Spanish-Language TV Shows': 0.0,\n",
       "              'TV Sci-Fi & Fantasy': 0.0,\n",
       "              'Anime Features': 0.0},\n",
       "             2017: {'Stand-Up Comedy & Talk Shows': 0.029459101490553134,\n",
       "              'TV Comedies': 0.13301961613455437,\n",
       "              'Comedies': 0.305660673733326,\n",
       "              'International Movies': 0.18755517816455744,\n",
       "              'International TV Shows': 0.23920948169591308,\n",
       "              'TV Dramas': 0.24659128163621633,\n",
       "              'Independent Movies': 0.3643284833573676,\n",
       "              'Stand-Up Comedy': 0.24250738008550293,\n",
       "              'Korean TV Shows': 0.0,\n",
       "              'Horror Movies': 0.07991464547107982,\n",
       "              'Thrillers': 0.12996613530525614,\n",
       "              'Docuseries': 0.08182084906716633,\n",
       "              'Science & Nature TV': 0.026094379124341007,\n",
       "              'Action & Adventure': 0.12774289614064444,\n",
       "              'Sci-Fi & Fantasy': 0.0319722457733622,\n",
       "              'Documentaries': 0.8225276252481613,\n",
       "              'Dramas': 0.552178857704904,\n",
       "              'Romantic Movies': 0.07991464547107982,\n",
       "              'Crime TV Shows': 0.07991464547107982,\n",
       "              'Faith & Spirituality': 0.0,\n",
       "              'Children & Family Movies': 0.24459101490553137,\n",
       "              'Music & Musicals': 0.07666426688112432,\n",
       "              \"Kids' TV\": 0.12774289614064444,\n",
       "              'Romantic TV Shows': 0.034849066497880006,\n",
       "              'TV Shows': 0.0,\n",
       "              'Reality TV': 0.03079441541679836,\n",
       "              'TV Action & Adventure': 0.03079441541679836,\n",
       "              'Sports Movies': 0.07888877958332881,\n",
       "              'TV Mysteries': 0.03079441541679836,\n",
       "              'TV Sci-Fi & Fantasy': 0.02791759469228055,\n",
       "              'TV Horror': 0.0,\n",
       "              'Teen TV Shows': 0.0,\n",
       "              'LGBTQ Movies': 0.03302585092994046,\n",
       "              'Classic & Cult TV': 0.02791759469228055,\n",
       "              'Spanish-Language TV Shows': 0.03079441541679836,\n",
       "              'TV Thrillers': 0.0,\n",
       "              'Movies': 0.0,\n",
       "              'British TV Shows': 0.026094379124341007,\n",
       "              'Classic Movies': 0.036390573296152584,\n",
       "              'Cult Movies': 0.0,\n",
       "              'Anime Features': 0.0},\n",
       "             2018: {'Documentaries': 0.5208742568503841,\n",
       "              'Stand-Up Comedy': 0.201722050713382,\n",
       "              'Music & Musicals': 0.13579081573848484,\n",
       "              'TV Shows': 0.0,\n",
       "              'Dramas': 0.6596933501140526,\n",
       "              'International Movies': 0.19648092021712585,\n",
       "              'Sci-Fi & Fantasy': 0.0899301512293296,\n",
       "              'Crime TV Shows': 0.14066638362341807,\n",
       "              'Docuseries': 0.19400590406840235,\n",
       "              'Stand-Up Comedy & Talk Shows': 0.037725887222397815,\n",
       "              'TV Comedies': 0.20241772042185677,\n",
       "              'British TV Shows': 0.03302585092994046,\n",
       "              'International TV Shows': 0.20029332740929884,\n",
       "              'TV Action & Adventure': 0.03564949357461537,\n",
       "              'TV Dramas': 0.19400590406840235,\n",
       "              'Romantic TV Shows': 0.03890371757896165,\n",
       "              'Thrillers': 0.1988116765420849,\n",
       "              'Children & Family Movies': 0.25715673631957664,\n",
       "              'Comedies': 0.3272608377752104,\n",
       "              \"Kids' TV\": 0.14485924189467284,\n",
       "              'Independent Movies': 0.3826135683058209,\n",
       "              'Action & Adventure': 0.19727302530897306,\n",
       "              'TV Sci-Fi & Fantasy': 0.029459101490553134,\n",
       "              'Teen TV Shows': 0.0,\n",
       "              'Korean TV Shows': 0.0,\n",
       "              'Movies': 0.0319722457733622,\n",
       "              'Sports Movies': 0.034849066497880006,\n",
       "              'Romantic Movies': 0.08516193076042963,\n",
       "              'Reality TV': 0.0873459165997295,\n",
       "              'Spanish-Language TV Shows': 0.03564949357461537,\n",
       "              'Horror Movies': 0.13750556815368328,\n",
       "              'Anime Series': 0.0,\n",
       "              'TV Thrillers': 0.0,\n",
       "              'Classic Movies': 0.0,\n",
       "              'LGBTQ Movies': 0.03564949357461537,\n",
       "              'TV Mysteries': 0.03302585092994046,\n",
       "              'TV Horror': 0.0,\n",
       "              'Cult Movies': 0.0,\n",
       "              'Science & Nature TV': 0.029459101490553134,\n",
       "              'Faith & Spirituality': 0.03564949357461537,\n",
       "              'Classic & Cult TV': 0.0},\n",
       "             2019: {'Comedies': 0.6318119993844217,\n",
       "              'Sports Movies': 0.09475339236566736,\n",
       "              \"Kids' TV\": 0.1467546089433188,\n",
       "              'Korean TV Shows': 0.0,\n",
       "              'Stand-Up Comedy & Talk Shows': 0.0,\n",
       "              'TV Comedies': 0.20993980968197437,\n",
       "              'Docuseries': 0.15181329031639257,\n",
       "              'International Movies': 0.21322933361145324,\n",
       "              'Crime TV Shows': 0.0961332497954064,\n",
       "              'Romantic TV Shows': 0.04367295829986475,\n",
       "              'TV Dramas': 0.20993980968197437,\n",
       "              'Action & Adventure': 0.34257181207874005,\n",
       "              'Horror Movies': 0.15021999555697413,\n",
       "              'Sci-Fi & Fantasy': 0.1507605507220545,\n",
       "              'Children & Family Movies': 0.348731061322345,\n",
       "              'Dramas': 0.7017887088894506,\n",
       "              'Thrillers': 0.21375221687414736,\n",
       "              'TV Action & Adventure': 0.042580965380214816,\n",
       "              'TV Sci-Fi & Fantasy': 0.034849066497880006,\n",
       "              'Music & Musicals': 0.09522400231387124,\n",
       "              'International TV Shows': 0.2121626037281668,\n",
       "              'Documentaries': 0.4101868683053171,\n",
       "              'Stand-Up Comedy': 0.14853731155744282,\n",
       "              'Independent Movies': 0.21770605025961268,\n",
       "              'Romantic Movies': 0.15429404179174597,\n",
       "              'TV Horror': 0.03302585092994046,\n",
       "              'TV Mysteries': 0.0,\n",
       "              'Spanish-Language TV Shows': 0.0,\n",
       "              'Reality TV': 0.09052721049232323,\n",
       "              'LGBTQ Movies': 0.034849066497880006,\n",
       "              'Movies': 0.0,\n",
       "              'Science & Nature TV': 0.03833213344056216,\n",
       "              'Anime Series': 0.0,\n",
       "              'Teen TV Shows': 0.0,\n",
       "              'Anime Features': 0.0,\n",
       "              'British TV Shows': 0.0,\n",
       "              'TV Thrillers': 0.0,\n",
       "              'TV Shows': 0.0,\n",
       "              'Cult Movies': 0.03833213344056216,\n",
       "              'Classic Movies': 0.08802394763324312,\n",
       "              'Faith & Spirituality': 0.03397895272798371},\n",
       "             2020: {'Dramas': 0.7599262551918442,\n",
       "              'LGBTQ Movies': 0.03995732273553991,\n",
       "              'Stand-Up Comedy': 0.08802394763324312,\n",
       "              'TV Horror': 0.0,\n",
       "              'TV Mysteries': 0.0370805020110221,\n",
       "              'TV Sci-Fi & Fantasy': 0.039444389791664404,\n",
       "              'Reality TV': 0.1507605507220545,\n",
       "              'Crime TV Shows': 0.09327123292259293,\n",
       "              'TV Dramas': 0.20697549079582547,\n",
       "              'TV Thrillers': 0.0319722457733622,\n",
       "              'International TV Shows': 0.09052721049232323,\n",
       "              'Anime Series': 0.03397895272798371,\n",
       "              'Children & Family Movies': 0.40512442199474324,\n",
       "              'Comedies': 0.6871726479376535,\n",
       "              'Romantic TV Shows': 0.039444389791664404,\n",
       "              'Action & Adventure': 0.3357071910080754,\n",
       "              'Independent Movies': 0.27094203038982995,\n",
       "              'Romantic Movies': 0.2087803082070443,\n",
       "              \"Kids' TV\": 0.2093642601838904,\n",
       "              'British TV Shows': 0.0,\n",
       "              'TV Comedies': 0.2105071950816526,\n",
       "              'Documentaries': 0.2110666447606422,\n",
       "              'Music & Musicals': 0.09377758908227872,\n",
       "              'Stand-Up Comedy & Talk Shows': 0.0,\n",
       "              'International Movies': 0.1512915380350365,\n",
       "              'Docuseries': 0.152830336866663,\n",
       "              'Spanish-Language TV Shows': 0.0,\n",
       "              'Horror Movies': 0.14795476898172977,\n",
       "              'Thrillers': 0.2105071950816526,\n",
       "              'Teen TV Shows': 0.034849066497880006,\n",
       "              'Science & Nature TV': 0.036390573296152584,\n",
       "              'Classic & Cult TV': 0.0,\n",
       "              'TV Action & Adventure': 0.08664409020350408,\n",
       "              'Classic Movies': 0.0370805020110221,\n",
       "              'TV Shows': 0.0,\n",
       "              'Sci-Fi & Fantasy': 0.09327123292259293,\n",
       "              'Sports Movies': 0.040445224377234225,\n",
       "              'Korean TV Shows': 0.0,\n",
       "              'Anime Features': 0.0,\n",
       "              'Faith & Spirituality': 0.0319722457733622,\n",
       "              'Movies': 0.0,\n",
       "              'Cult Movies': 0.03397895272798371},\n",
       "             2021: {'Documentaries': 0.21322933361145324,\n",
       "              'Crime TV Shows': 0.09377758908227872,\n",
       "              'International TV Shows': 0.21675362431186393,\n",
       "              'TV Action & Adventure': 0.04332204510175204,\n",
       "              'Docuseries': 0.14966952139692824,\n",
       "              'Reality TV': 0.09522400231387124,\n",
       "              'TV Dramas': 0.2110666447606422,\n",
       "              'TV Horror': 0.034849066497880006,\n",
       "              'TV Mysteries': 0.03564949357461537,\n",
       "              'Children & Family Movies': 0.34148087293374857,\n",
       "              'Dramas': 0.7761672169362157,\n",
       "              'Independent Movies': 0.14910875740656368,\n",
       "              'International Movies': 0.4159149695826513,\n",
       "              'Comedies': 0.6267858159063329,\n",
       "              'British TV Shows': 0.0,\n",
       "              'TV Comedies': 0.21675362431186393,\n",
       "              'Thrillers': 0.21375221687414736,\n",
       "              'Spanish-Language TV Shows': 0.040445224377234225,\n",
       "              'Music & Musicals': 0.09522400231387124,\n",
       "              'Horror Movies': 0.0965728279297819,\n",
       "              'Sci-Fi & Fantasy': 0.0916703787691222,\n",
       "              'TV Thrillers': 0.0,\n",
       "              \"Kids' TV\": 0.15476649250079014,\n",
       "              'Action & Adventure': 0.4808508235277005,\n",
       "              'TV Sci-Fi & Fantasy': 0.03833213344056216,\n",
       "              'Classic Movies': 0.040445224377234225,\n",
       "              'Romantic TV Shows': 0.09052721049232323,\n",
       "              'Sports Movies': 0.040910424533583165,\n",
       "              'Anime Series': 0.03833213344056216,\n",
       "              'Korean TV Shows': 0.0,\n",
       "              'Romantic Movies': 0.2110666447606422,\n",
       "              'Science & Nature TV': 0.03302585092994046,\n",
       "              'Cult Movies': 0.037725887222397815,\n",
       "              'TV Shows': 0.0,\n",
       "              'Faith & Spirituality': 0.0,\n",
       "              'LGBTQ Movies': 0.03397895272798371,\n",
       "              'Teen TV Shows': 0.034849066497880006,\n",
       "              'Anime Features': 0.0,\n",
       "              'Movies': 0.0,\n",
       "              'Stand-Up Comedy': 0.03302585092994046,\n",
       "              'Stand-Up Comedy & Talk Shows': 0.0,\n",
       "              'Classic & Cult TV': 0.0}})"
      ]
     },
     "execution_count": 100,
     "metadata": {},
     "output_type": "execute_result"
    }
   ],
   "source": [
    "genre_by_year"
   ]
  },
  {
   "cell_type": "code",
   "execution_count": 101,
   "id": "e82f127e",
   "metadata": {},
   "outputs": [
    {
     "name": "stdout",
     "output_type": "stream",
     "text": [
      "0.25\n",
      "None\n",
      "None\n",
      "2.47428372134948\n",
      "None\n",
      "None\n",
      "None\n",
      "0.16750556815368328\n",
      "0.2953213077407741\n",
      "0.552178857704904\n",
      "0.6596933501140526\n",
      "0.7017887088894506\n",
      "0.7599262551918442\n",
      "0.7761672169362157\n"
     ]
    }
   ],
   "source": [
    "for i in genre_by_year.items():\n",
    "    print(i[1].get('Dramas'))"
   ]
  },
  {
   "cell_type": "code",
   "execution_count": 102,
   "id": "5809d3ec",
   "metadata": {},
   "outputs": [],
   "source": [
    "def plot_genres_trend_overtime(genre):\n",
    "    years = []\n",
    "    trend = []\n",
    "    for i in genre_by_year.items():\n",
    "        if genre in list(i[1].keys()):\n",
    "            years.append(i[0])\n",
    "            trend.append(i[1].get(genre))\n",
    "    plt.plot(years, trend)\n",
    "    plt.title(genre)"
   ]
  },
  {
   "cell_type": "code",
   "execution_count": 103,
   "id": "e1a66e34",
   "metadata": {},
   "outputs": [
    {
     "data": {
      "image/png": "[encoded data removed]",
      "text/plain": [
       "<Figure size 432x288 with 1 Axes>"
      ]
     },
     "metadata": {},
     "output_type": "display_data"
    }
   ],
   "source": [
    "plot_genres_trend_overtime('TV Comedies')"
   ]
  },
  {
   "cell_type": "code",
   "execution_count": 104,
   "id": "e5188dc1",
   "metadata": {},
   "outputs": [
    {
     "data": {
      "image/png": "[encoded data removed]",
      "text/plain": [
       "<Figure size 432x288 with 1 Axes>"
      ]
     },
     "metadata": {},
     "output_type": "display_data"
    }
   ],
   "source": [
    "plot_genres_trend_overtime('Independent Movies')"
   ]
  },
  {
   "cell_type": "code",
   "execution_count": 105,
   "id": "629a2d6a",
   "metadata": {},
   "outputs": [
    {
     "data": {
      "image/png": "[encoded data removed]",
      "text/plain": [
       "<Figure size 432x288 with 1 Axes>"
      ]
     },
     "metadata": {},
     "output_type": "display_data"
    }
   ],
   "source": [
    "plot_genres_trend_overtime('TV Dramas')"
   ]
  },
  {
   "cell_type": "code",
   "execution_count": 106,
   "id": "013aac30",
   "metadata": {},
   "outputs": [
    {
     "data": {
      "image/png": "[encoded data removed]",
      "text/plain": [
       "<Figure size 432x288 with 1 Axes>"
      ]
     },
     "metadata": {},
     "output_type": "display_data"
    }
   ],
   "source": [
    "plot_genres_trend_overtime(\"Horror Movies\")"
   ]
  },
  {
   "cell_type": "code",
   "execution_count": 107,
   "id": "b3bb7f33",
   "metadata": {},
   "outputs": [
    {
     "data": {
      "text/plain": [
       "Dramas                      661\n",
       "Comedies                    588\n",
       "Action & Adventure          360\n",
       "Children & Family Movies    352\n",
       "Documentaries               277\n",
       "International Movies        273\n",
       "Thrillers                   225\n",
       "TV Comedies                 224\n",
       "Independent Movies          221\n",
       "TV Dramas                   207\n",
       "Romantic Movies             203\n",
       "International TV Shows      191\n",
       "Kids' TV                    182\n",
       "Docuseries                  172\n",
       "Horror Movies               152\n",
       "Reality TV                  133\n",
       "Sci-Fi & Fantasy            131\n",
       "Music & Musicals            126\n",
       "Crime TV Shows              124\n",
       "Stand-Up Comedy              92\n",
       "dtype: int64"
      ]
     },
     "execution_count": 107,
     "metadata": {},
     "output_type": "execute_result"
    }
   ],
   "source": [
    "recent_tokens.head(20)"
   ]
  },
  {
   "cell_type": "code",
   "execution_count": 108,
   "id": "9d84f5ac",
   "metadata": {},
   "outputs": [
    {
     "data": {
      "text/plain": [
       "Dramas                      945\n",
       "Comedies                    774\n",
       "Documentaries               587\n",
       "Children & Family Movies    496\n",
       "Action & Adventure          446\n",
       "Independent Movies          401\n",
       "International Movies        375\n",
       "TV Comedies                 333\n",
       "TV Dramas                   332\n",
       "Thrillers                   320\n",
       "dtype: int64"
      ]
     },
     "execution_count": 108,
     "metadata": {},
     "output_type": "execute_result"
    }
   ],
   "source": [
    "alltime_genres.head(10)"
   ]
  },
  {
   "cell_type": "code",
   "execution_count": 109,
   "id": "a6b2b520",
   "metadata": {},
   "outputs": [
    {
     "data": {
      "text/plain": [
       "5685"
      ]
     },
     "execution_count": 109,
     "metadata": {},
     "output_type": "execute_result"
    }
   ],
   "source": [
    "total"
   ]
  },
  {
   "cell_type": "code",
   "execution_count": 110,
   "id": "fb2055cc",
   "metadata": {},
   "outputs": [
    {
     "data": {
      "text/plain": [
       "5.521460917862246"
      ]
     },
     "execution_count": 110,
     "metadata": {},
     "output_type": "execute_result"
    }
   ],
   "source": [
    "np.log(250)"
   ]
  }
 ],
 "metadata": {
  "kernelspec": {
   "display_name": "Python 3 (ipykernel)",
   "language": "python",
   "name": "python3"
  },
  "language_info": {
   "codemirror_mode": {
    "name": "ipython",
    "version": 3
   },
   "file_extension": ".py",
   "mimetype": "text/x-python",
   "name": "python",
   "nbconvert_exporter": "python",
   "pygments_lexer": "ipython3",
   "version": "3.9.7"
  }
 },
 "nbformat": 4,
 "nbformat_minor": 5
}
